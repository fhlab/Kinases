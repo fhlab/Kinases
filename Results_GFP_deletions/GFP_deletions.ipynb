{
 "cells": [
  {
   "cell_type": "markdown",
   "metadata": {},
   "source": [
    "## Protein & DNA enrichment statistics for deletions and substitutions in GFP\n",
    "### eGFP & GFP8; 4 libraries: -3 bp, -6 bp, -9 bp, 3 bp sub; starting library + sorted into 3 fractions each\n",
    "\n",
    "The analysis functions are located in `../indels/proteins.py`, which draws general functions from `../indels/ind.py`"
   ]
  },
  {
   "cell_type": "markdown",
   "metadata": {},
   "source": [
    "### Previous processing of the libraries\n",
    "\n",
    "Reference sequences:\n",
    "\n",
    "`>eGFP\n",
    "atgagtaaaggagaagaacttttcactggagttgtcccaattcttgttgaattagatggtgatgttaatgggcacaaattttctgtcagtggagagggtgaaggtgatgcaacatacggaaaacttacccttaaatttatttgcactactggaaaactacctgttccatggccaacacttgtcactactctgacgtatggtgttcaatgcttttcccgttatccggatcacatgaaacggcatgactttttcaagagtgccatgcccgaaggttatgtacaggaacgcactatattcttcaaagatgacgggaactacaagacgcgtgccgaggtcaagtttgaaggtgatacccttgttaatcgtatcgagttaaaaggtattgattttaaagaagatggaaacattctcggacacaaactcgagtacaactataactcacacaatgtatacatcatggcagacaaacaaaagaatggaatcaaagttaacttcaaaattcgccacaacattgaagatggatccgttcaactagcagaccattatcaacaaaatactccaattggcgatggccctgtccttttaccagacaaccattacctgtcgacacaatctgccctttcgaaagatcccaacgaaaagcgtgaccacatggtccttcttgagtttgtaactgctgctgggattacacatggcatggatgagctctacaaaaAGCTT`\n",
    "\n",
    "`>GFP8\n",
    "atgagtaaaggagaagaacttttcactggagttgtcccaattcttgttgaattagatggtgatgttaatgggcacaaattttctgtccgtggagagggtgaaggtgatgcaacatacggaaaacttacccttaaatttatttgcactactggaaaactacctgttccatggccaacacttgtcactactctgacgtatggtgttcaatgcttttcccgttatccggatcacatgaaacggcatgactttttcaagagtgccatgcccgaaggttatgtacaggaacgcactatatccttcaaagatgacgggacctacaagacgcgtgccgaggtcaagtttgaaggtgatacccttgttaatcgtatcgagttaaaaggtattgattttaaagaagatggaaacattctcggacacaaactcgagtacaactataactcacacaatgtatacatcacggcagacaaacaaaagaatggaatcaaagctaacttcaaaattcgccacaacattgaagatggatccgttcaactagcagaccattatcaacaaaatactccaattggcgatggccctgtccttttaccagacaaccattacctgtcgacacaatctgtcctttcgaaagatcccaacgaaaagcgtgaccacatggtccttcttgagtttgtaactgctgctgggattacacatggcatggatgagctctacaaaaAGCTT`\n",
    "\n",
    "We start with 4 files for eGFP and 4 for GFP8: N (the baseline, unsorted libraries), H, MM and L (pooled sorted libraries). Each of these contains -3, -6, -9 bp deletions and the +-3 bp substitution library.\n",
    "\n",
    "#### Read processing\n",
    "1. Paired End Assembly of Reads\n",
    "```\n",
    "pear-0.9.10-bin-64/pear-0.9.10-bin-64 -f $forwardReads -r $reverseReads -o $baseName.$activity \\\n",
    "--keep-original --min-overlap 5 --min-assembly-length 0 --quality-threshold 15 --max-uncalled-base 0.01\n",
    "```\n",
    "2. Separately, align assembled (in single-end mode) and unassembled reads (in paired-end mode) reads to reference (eGFP.fa or GFP8.fa). Use default Bowtie2 settings. After sorting the SAM files, this generates the depth files.\n",
    "3. Extract non-WT reads based on `grep`. \n",
    "4. Align these \"interesting reads\" with EMBOSS implementation of `needleall` = Needleman-Wunsch algorithm.\n",
    "   - There are rather slow and were originally chosen to give an accurate alignment. There definitely are faster and likely equally fast ways of doing the alignments. One option to explore is https://academic.oup.com/bioinformatics/article/33/9/1394/2964763, which has a Python wrapper available.\n",
    "   - We're aligning short sequencing reads to a reference sequence that is only an order of magnitude longer. The difference between a local and a global alignment will be minimal. Hence, while a global alignment would be preferred, a local algorithm would be acceptable. Edlib has a global & semi-global option.\n",
    "5. Parse alignments to extract mutations\n",
    "\n",
    "\n"
   ]
  },
  {
   "cell_type": "code",
   "execution_count": 1,
   "metadata": {},
   "outputs": [],
   "source": [
    "# Perform the initialization and imports\n",
    "import sys\n",
    "import pickle\n",
    "import re\n",
    "import os\n",
    "import csv\n",
    "import argparse\n",
    "import math\n",
    "import pprint\n",
    "import random\n",
    "\n",
    "from string import ascii_lowercase\n",
    "from collections import Counter, defaultdict\n",
    "\n",
    "import pandas as pd\n",
    "import matplotlib.pyplot as plt\n",
    "import seaborn as sns\n",
    "\n",
    "from Bio import SeqIO, AlignIO\n",
    "from Bio.SeqRecord import SeqRecord\n",
    "from Bio.Alphabet import IUPAC\n",
    "from Bio.Seq import Seq\n",
    "from Bio.Emboss.Applications import NeedleallCommandline\n",
    "\n",
    "# Demand Python 3.\n",
    "if sys.version_info[0] < 3:\n",
    "    print(\"Python 3 is required, but you are using Python %i.%i.%i\") % (\n",
    "        sys.version_info[0], sys.version_info[1], sys.version_info[2])\n",
    "    sys.exit(1)"
   ]
  },
  {
   "cell_type": "markdown",
   "metadata": {},
   "source": [
    "All functions for this project are located in `InDelScanner/indels/*.py` files."
   ]
  },
  {
   "cell_type": "code",
   "execution_count": 2,
   "metadata": {},
   "outputs": [],
   "source": [
    "# Retrieve the specific functions from ind and proteins.py\n",
    "indels_path=\"/home/maya/InDelScanner\"  # /PATH/TO/InDelScanner\n",
    "if indels_path not in sys.path:\n",
    "    sys.path.append(indels_path)\n",
    "from indels.ind import trim_read, findEnds, endMatch, findGap, gapAlign"
   ]
  },
  {
   "cell_type": "code",
   "execution_count": 3,
   "metadata": {},
   "outputs": [],
   "source": [
    "os.chdir(\"/mnt/c/Users/Maya/Dropbox/GFP_deletions\")"
   ]
  },
  {
   "cell_type": "markdown",
   "metadata": {},
   "source": [
    "## Part 1: Ideal distributions from clean computationally generated dataset\n",
    "\n",
    "We start by making a 'perfect' library that contains all possible mutations of the types we are interesting. Since this analysis is working towards the 2017 sequencing dataset of GFP deletion and subsitution libraries, this dataset contains one read for a -3, -6, -9 bp deletion at any position within eGFP or GFP8, as well as for every NNN substitution. There are no frameshifts here, but we expect to see some stop codons.\n",
    "\n",
    "1. Generate baseline reads with baseline.py: instantaneous for deletions, 1.9 s for substitutions\n",
    "2. Align with needleall: 22.3 s for one set of deletions, 8:49.06 for GFP8-s3, 10:15.79 for eGFP-s3\n",
    "3. Read in with composition scripts: 35:05.50 for all four on a single thread\n",
    "```\n",
    "~/InDelScanner/indels/composition.py -f . -s 9 -e 6 -o GFP.baseline\n",
    "```"
   ]
  },
  {
   "cell_type": "code",
   "execution_count": 4,
   "metadata": {},
   "outputs": [],
   "source": [
    "from filtering import classify_dna, classify_protein, is_mutation_consecutive\n",
    "from filtering import translate_variant_type, dna_protein_correspondence\n",
    "from filtering import get_dna_composition, get_full_protein_composition, get_filtered_protein_composition"
   ]
  },
  {
   "cell_type": "code",
   "execution_count": 5,
   "metadata": {},
   "outputs": [],
   "source": [
    "with open('GFP.baseline.p', 'rb') as f:\n",
    "    tmp = pickle.load(f)\n",
    "\n",
    "tmp.keys()\n",
    "# this has the keys 'eGFP-9-6' and 'GFP8-9-6' to indicate the number of nucleotides padding the gene\n",
    "ideal = {'eGFP': tmp['eGFP-9-6'], 'GFP8': tmp['GFP8-9-6']}"
   ]
  },
  {
   "cell_type": "code",
   "execution_count": 6,
   "metadata": {},
   "outputs": [
    {
     "data": {
      "text/plain": [
       "dict_keys(['base_d369', 'base_s3'])"
      ]
     },
     "execution_count": 6,
     "metadata": {},
     "output_type": "execute_result"
    }
   ],
   "source": [
    "ideal['eGFP'].keys()"
   ]
  },
  {
   "cell_type": "code",
   "execution_count": 7,
   "metadata": {},
   "outputs": [],
   "source": [
    "dna_count_st, dna_reads_st = get_dna_composition(ideal, 1)\n",
    "protein_count_st, protein_reads_st = get_full_protein_composition(ideal, 1)\n",
    "filt_prot_count_st, filt_prot_reads_st = get_filtered_protein_composition(ideal, 1)"
   ]
  },
  {
   "cell_type": "markdown",
   "metadata": {},
   "source": [
    "First, look at how many variants we tried to generate (ie. the number of input reads) and how many are actually detectable.\n",
    "\n",
    "While pure substitution mutations can be placed very accurately, correct placement of InDels can be inherently ambiguous depending on the sequence context. InDels show some inherent redundancy, where distinct initial transposition and insertion / deletion events result in identical final sequence. For example, in the original sequence …nnGCTACTnn…, -3 bp deletions starting at position 2 (G---CT) and at position 3 (GC---T) result in the same final sequence: nnGCTnn (the remaining sequence context is abbreviated with n). The Needleman-Wunsch algorithm consistently (though arbitrarily) assigns this sequence to a deletion at position 2, such that any deletions originating from position 3 _cannot_ be directly observed."
   ]
  },
  {
   "cell_type": "code",
   "execution_count": 8,
   "metadata": {},
   "outputs": [],
   "source": [
    "# Choose which \n",
    "row_index_dna = ['d3', 'd6', 'd9', 'f', 's', 'sd', 'other']\n",
    "fractions_base = ['eGFP.base_d369', 'eGFP.base_s3', 'GFP8.base_d369', 'GFP8.base_s3']\n",
    "\n",
    "id_dna_count = pd.DataFrame(dna_count_st, index=row_index_dna, columns=fractions_base)\n",
    "id_dna_reads = pd.DataFrame(dna_reads_st, index=row_index_dna, columns=fractions_base)"
   ]
  },
  {
   "cell_type": "markdown",
   "metadata": {},
   "source": [
    "**Table A**: Maximal theoretical diversity of -3 bp, -6 bp, -9 bp deletion libraries and the ±3 bp substitution library. Derived from generating all possible in-frame mutations with one read per variants."
   ]
  },
  {
   "cell_type": "code",
   "execution_count": 9,
   "metadata": {},
   "outputs": [
    {
     "data": {
      "text/html": [
       "<div>\n",
       "<style scoped>\n",
       "    .dataframe tbody tr th:only-of-type {\n",
       "        vertical-align: middle;\n",
       "    }\n",
       "\n",
       "    .dataframe tbody tr th {\n",
       "        vertical-align: top;\n",
       "    }\n",
       "\n",
       "    .dataframe thead th {\n",
       "        text-align: right;\n",
       "    }\n",
       "</style>\n",
       "<table border=\"1\" class=\"dataframe\">\n",
       "  <thead>\n",
       "    <tr style=\"text-align: right;\">\n",
       "      <th></th>\n",
       "      <th>eGFP.base_d369</th>\n",
       "      <th>eGFP.base_s3</th>\n",
       "      <th>GFP8.base_d369</th>\n",
       "      <th>GFP8.base_s3</th>\n",
       "    </tr>\n",
       "  </thead>\n",
       "  <tbody>\n",
       "    <tr>\n",
       "      <th>d3</th>\n",
       "      <td>711</td>\n",
       "      <td>0</td>\n",
       "      <td>711</td>\n",
       "      <td>0</td>\n",
       "    </tr>\n",
       "    <tr>\n",
       "      <th>d6</th>\n",
       "      <td>706</td>\n",
       "      <td>0</td>\n",
       "      <td>706</td>\n",
       "      <td>0</td>\n",
       "    </tr>\n",
       "    <tr>\n",
       "      <th>d9</th>\n",
       "      <td>705</td>\n",
       "      <td>0</td>\n",
       "      <td>705</td>\n",
       "      <td>0</td>\n",
       "    </tr>\n",
       "    <tr>\n",
       "      <th>f</th>\n",
       "      <td>0</td>\n",
       "      <td>0</td>\n",
       "      <td>0</td>\n",
       "      <td>0</td>\n",
       "    </tr>\n",
       "    <tr>\n",
       "      <th>s</th>\n",
       "      <td>0</td>\n",
       "      <td>42687</td>\n",
       "      <td>0</td>\n",
       "      <td>42687</td>\n",
       "    </tr>\n",
       "    <tr>\n",
       "      <th>sd</th>\n",
       "      <td>0</td>\n",
       "      <td>0</td>\n",
       "      <td>0</td>\n",
       "      <td>0</td>\n",
       "    </tr>\n",
       "    <tr>\n",
       "      <th>other</th>\n",
       "      <td>0</td>\n",
       "      <td>0</td>\n",
       "      <td>0</td>\n",
       "      <td>0</td>\n",
       "    </tr>\n",
       "  </tbody>\n",
       "</table>\n",
       "</div>"
      ],
      "text/plain": [
       "       eGFP.base_d369  eGFP.base_s3  GFP8.base_d369  GFP8.base_s3\n",
       "d3                711             0             711             0\n",
       "d6                706             0             706             0\n",
       "d9                705             0             705             0\n",
       "f                   0             0               0             0\n",
       "s                   0         42687               0         42687\n",
       "sd                  0             0               0             0\n",
       "other               0             0               0             0"
      ]
     },
     "execution_count": 9,
     "metadata": {},
     "output_type": "execute_result"
    }
   ],
   "source": [
    "id_dna_reads"
   ]
  },
  {
   "cell_type": "markdown",
   "metadata": {},
   "source": [
    "The number of DNA 'reads' in the baseline dataset. We generated one read per position (for deletions) or one read per position + codon combination (for substitutions), therefore this table shows the total number of mutations that we tried to generate - ie. the denominator in diversity calculations. If the above issue with InDel redundancy did not exist, this would be the full theoretical diversity. Because of redundancy, it is only the upper limit.\n",
    "\n",
    "**Table B**: Theoretical diversity of same libraries on DNA level, after diversity compression because of InDel redundancy."
   ]
  },
  {
   "cell_type": "code",
   "execution_count": 10,
   "metadata": {},
   "outputs": [
    {
     "data": {
      "text/html": [
       "<div>\n",
       "<style scoped>\n",
       "    .dataframe tbody tr th:only-of-type {\n",
       "        vertical-align: middle;\n",
       "    }\n",
       "\n",
       "    .dataframe tbody tr th {\n",
       "        vertical-align: top;\n",
       "    }\n",
       "\n",
       "    .dataframe thead th {\n",
       "        text-align: right;\n",
       "    }\n",
       "</style>\n",
       "<table border=\"1\" class=\"dataframe\">\n",
       "  <thead>\n",
       "    <tr style=\"text-align: right;\">\n",
       "      <th></th>\n",
       "      <th>eGFP.base_d369</th>\n",
       "      <th>eGFP.base_s3</th>\n",
       "      <th>GFP8.base_d369</th>\n",
       "      <th>GFP8.base_s3</th>\n",
       "    </tr>\n",
       "  </thead>\n",
       "  <tbody>\n",
       "    <tr>\n",
       "      <th>d3</th>\n",
       "      <td>527</td>\n",
       "      <td>0</td>\n",
       "      <td>530</td>\n",
       "      <td>0</td>\n",
       "    </tr>\n",
       "    <tr>\n",
       "      <th>d6</th>\n",
       "      <td>500</td>\n",
       "      <td>0</td>\n",
       "      <td>504</td>\n",
       "      <td>0</td>\n",
       "    </tr>\n",
       "    <tr>\n",
       "      <th>d9</th>\n",
       "      <td>511</td>\n",
       "      <td>0</td>\n",
       "      <td>513</td>\n",
       "      <td>0</td>\n",
       "    </tr>\n",
       "    <tr>\n",
       "      <th>f</th>\n",
       "      <td>0</td>\n",
       "      <td>0</td>\n",
       "      <td>0</td>\n",
       "      <td>0</td>\n",
       "    </tr>\n",
       "    <tr>\n",
       "      <th>s</th>\n",
       "      <td>0</td>\n",
       "      <td>33029</td>\n",
       "      <td>0</td>\n",
       "      <td>33024</td>\n",
       "    </tr>\n",
       "    <tr>\n",
       "      <th>sd</th>\n",
       "      <td>0</td>\n",
       "      <td>0</td>\n",
       "      <td>0</td>\n",
       "      <td>0</td>\n",
       "    </tr>\n",
       "    <tr>\n",
       "      <th>other</th>\n",
       "      <td>0</td>\n",
       "      <td>0</td>\n",
       "      <td>0</td>\n",
       "      <td>0</td>\n",
       "    </tr>\n",
       "  </tbody>\n",
       "</table>\n",
       "</div>"
      ],
      "text/plain": [
       "       eGFP.base_d369  eGFP.base_s3  GFP8.base_d369  GFP8.base_s3\n",
       "d3                527             0             530             0\n",
       "d6                500             0             504             0\n",
       "d9                511             0             513             0\n",
       "f                   0             0               0             0\n",
       "s                   0         33029               0         33024\n",
       "sd                  0             0               0             0\n",
       "other               0             0               0             0"
      ]
     },
     "execution_count": 10,
     "metadata": {},
     "output_type": "execute_result"
    }
   ],
   "source": [
    "id_dna_count"
   ]
  },
  {
   "cell_type": "markdown",
   "metadata": {},
   "source": [
    "Once the generated mutations from previous table pass through the alignment & mutation calling, some groups of mutations in neighbouring positions are assigned to the same position - they are redundant. Hence, the theoretical diversity accessible even for a perfect library (which we generated above), is below the maximum of 1 deletion / bp gene length or 64 substitutions (NNN codon) per bp gene length.\n",
    "\n",
    "With redundancy, the theoretical diversity approximately 520 deletions of each length and 33K distinct  substitutions at the DNA level.\n",
    "\n",
    "Next, divide the theoretical diversity after redundancy in Table B (numerator) by the maximal theoretical diversity in Table A (denominator, previous table) to generate **Table C**: average proportion of variants accessible by InDel mutageneis per bp of gene length."
   ]
  },
  {
   "cell_type": "code",
   "execution_count": 11,
   "metadata": {},
   "outputs": [
    {
     "data": {
      "text/html": [
       "<div>\n",
       "<style scoped>\n",
       "    .dataframe tbody tr th:only-of-type {\n",
       "        vertical-align: middle;\n",
       "    }\n",
       "\n",
       "    .dataframe tbody tr th {\n",
       "        vertical-align: top;\n",
       "    }\n",
       "\n",
       "    .dataframe thead th {\n",
       "        text-align: right;\n",
       "    }\n",
       "</style>\n",
       "<table border=\"1\" class=\"dataframe\">\n",
       "  <thead>\n",
       "    <tr style=\"text-align: right;\">\n",
       "      <th></th>\n",
       "      <th>eGFP.base_d369</th>\n",
       "      <th>eGFP.base_s3</th>\n",
       "      <th>GFP8.base_d369</th>\n",
       "      <th>GFP8.base_s3</th>\n",
       "    </tr>\n",
       "  </thead>\n",
       "  <tbody>\n",
       "    <tr>\n",
       "      <th>d3</th>\n",
       "      <td>0.741210</td>\n",
       "      <td>NaN</td>\n",
       "      <td>0.745429</td>\n",
       "      <td>NaN</td>\n",
       "    </tr>\n",
       "    <tr>\n",
       "      <th>d6</th>\n",
       "      <td>0.708215</td>\n",
       "      <td>NaN</td>\n",
       "      <td>0.713881</td>\n",
       "      <td>NaN</td>\n",
       "    </tr>\n",
       "    <tr>\n",
       "      <th>d9</th>\n",
       "      <td>0.724823</td>\n",
       "      <td>NaN</td>\n",
       "      <td>0.727660</td>\n",
       "      <td>NaN</td>\n",
       "    </tr>\n",
       "    <tr>\n",
       "      <th>f</th>\n",
       "      <td>NaN</td>\n",
       "      <td>NaN</td>\n",
       "      <td>NaN</td>\n",
       "      <td>NaN</td>\n",
       "    </tr>\n",
       "    <tr>\n",
       "      <th>s</th>\n",
       "      <td>NaN</td>\n",
       "      <td>0.773748</td>\n",
       "      <td>NaN</td>\n",
       "      <td>0.773631</td>\n",
       "    </tr>\n",
       "    <tr>\n",
       "      <th>sd</th>\n",
       "      <td>NaN</td>\n",
       "      <td>NaN</td>\n",
       "      <td>NaN</td>\n",
       "      <td>NaN</td>\n",
       "    </tr>\n",
       "    <tr>\n",
       "      <th>other</th>\n",
       "      <td>NaN</td>\n",
       "      <td>NaN</td>\n",
       "      <td>NaN</td>\n",
       "      <td>NaN</td>\n",
       "    </tr>\n",
       "  </tbody>\n",
       "</table>\n",
       "</div>"
      ],
      "text/plain": [
       "       eGFP.base_d369  eGFP.base_s3  GFP8.base_d369  GFP8.base_s3\n",
       "d3           0.741210           NaN        0.745429           NaN\n",
       "d6           0.708215           NaN        0.713881           NaN\n",
       "d9           0.724823           NaN        0.727660           NaN\n",
       "f                 NaN           NaN             NaN           NaN\n",
       "s                 NaN      0.773748             NaN      0.773631\n",
       "sd                NaN           NaN             NaN           NaN\n",
       "other             NaN           NaN             NaN           NaN"
      ]
     },
     "execution_count": 11,
     "metadata": {},
     "output_type": "execute_result"
    }
   ],
   "source": [
    "id_dna_count.div(id_dna_reads)"
   ]
  },
  {
   "cell_type": "markdown",
   "metadata": {},
   "source": [
    "Dividing the two dataframes, we see the theoretical diversity is ~0.74 deletions / bp gene lenght and 0.774×64=49.5 substitutions / bp gene length.\n",
    "\n",
    "**Table D**: Composition of ideal variants when translated to protein. Due to degeneracy of the codon table, the distinct DNA variants in each library results in an equal or lower diversity once the sequences are translated into protein. Synonymous variants that have different DNA and identical protein sequence may still show a difference in expression levels, so the libraries are worth analysing both on protein and DNA level."
   ]
  },
  {
   "cell_type": "code",
   "execution_count": 12,
   "metadata": {},
   "outputs": [
    {
     "data": {
      "text/html": [
       "<div>\n",
       "<style scoped>\n",
       "    .dataframe tbody tr th:only-of-type {\n",
       "        vertical-align: middle;\n",
       "    }\n",
       "\n",
       "    .dataframe tbody tr th {\n",
       "        vertical-align: top;\n",
       "    }\n",
       "\n",
       "    .dataframe thead th {\n",
       "        text-align: right;\n",
       "    }\n",
       "</style>\n",
       "<table border=\"1\" class=\"dataframe\">\n",
       "  <thead>\n",
       "    <tr style=\"text-align: right;\">\n",
       "      <th></th>\n",
       "      <th>eGFP.base_d369</th>\n",
       "      <th>eGFP.base_s3</th>\n",
       "      <th>GFP8.base_d369</th>\n",
       "      <th>GFP8.base_s3</th>\n",
       "    </tr>\n",
       "  </thead>\n",
       "  <tbody>\n",
       "    <tr>\n",
       "      <th>d</th>\n",
       "      <td>230</td>\n",
       "      <td>0</td>\n",
       "      <td>231</td>\n",
       "      <td>0</td>\n",
       "    </tr>\n",
       "    <tr>\n",
       "      <th>c-sd</th>\n",
       "      <td>174</td>\n",
       "      <td>0</td>\n",
       "      <td>174</td>\n",
       "      <td>0</td>\n",
       "    </tr>\n",
       "    <tr>\n",
       "      <th>c-dd</th>\n",
       "      <td>230</td>\n",
       "      <td>0</td>\n",
       "      <td>230</td>\n",
       "      <td>0</td>\n",
       "    </tr>\n",
       "    <tr>\n",
       "      <th>c-sdd</th>\n",
       "      <td>159</td>\n",
       "      <td>0</td>\n",
       "      <td>159</td>\n",
       "      <td>0</td>\n",
       "    </tr>\n",
       "    <tr>\n",
       "      <th>c-ddd</th>\n",
       "      <td>236</td>\n",
       "      <td>0</td>\n",
       "      <td>236</td>\n",
       "      <td>0</td>\n",
       "    </tr>\n",
       "    <tr>\n",
       "      <th>c-sddd</th>\n",
       "      <td>171</td>\n",
       "      <td>0</td>\n",
       "      <td>172</td>\n",
       "      <td>0</td>\n",
       "    </tr>\n",
       "    <tr>\n",
       "      <th>s</th>\n",
       "      <td>0</td>\n",
       "      <td>4514</td>\n",
       "      <td>0</td>\n",
       "      <td>4514</td>\n",
       "    </tr>\n",
       "    <tr>\n",
       "      <th>c-ss</th>\n",
       "      <td>0</td>\n",
       "      <td>4184</td>\n",
       "      <td>0</td>\n",
       "      <td>4145</td>\n",
       "    </tr>\n",
       "    <tr>\n",
       "      <th>*</th>\n",
       "      <td>25</td>\n",
       "      <td>386</td>\n",
       "      <td>25</td>\n",
       "      <td>383</td>\n",
       "    </tr>\n",
       "  </tbody>\n",
       "</table>\n",
       "</div>"
      ],
      "text/plain": [
       "        eGFP.base_d369  eGFP.base_s3  GFP8.base_d369  GFP8.base_s3\n",
       "d                  230             0             231             0\n",
       "c-sd               174             0             174             0\n",
       "c-dd               230             0             230             0\n",
       "c-sdd              159             0             159             0\n",
       "c-ddd              236             0             236             0\n",
       "c-sddd             171             0             172             0\n",
       "s                    0          4514               0          4514\n",
       "c-ss                 0          4184               0          4145\n",
       "*                   25           386              25           383"
      ]
     },
     "execution_count": 12,
     "metadata": {},
     "output_type": "execute_result"
    }
   ],
   "source": [
    "row_index_prot = ['d', 'c-sd', 'c-dd', 'c-sdd','c-ddd', 'c-sddd', 's', 'c-ss', '*']\n",
    "id_filt_prot = pd.DataFrame(filt_prot_count_st, index=row_index_prot, columns=fractions_base)\n",
    "id_filt_prot"
   ]
  },
  {
   "cell_type": "markdown",
   "metadata": {},
   "source": [
    "Since InDel events (nor substitutions) necessarily occur between codon boundaries, about 40% of mutations of each type introduce an adjacent substitution. Key:\n",
    "- d: pure 1 amino acid deletion\n",
    "- c-sd: 1 aa substitution + 1 aa deletion, consecutive\n",
    "- c-dd: consecutive 2 aa deletion\n",
    "- c-ddd: conscutive 3 aa deletion\n",
    "- s: 1 aa substitution\n",
    "- c-ss: substitutions in 2 consecutive amino acids\n",
    "- `*`: stop codon"
   ]
  },
  {
   "cell_type": "markdown",
   "metadata": {},
   "source": [
    "## Part 2: Composition of libraries before sorting\n",
    "\n",
    "The dataset is structured as follows:\n",
    "- eGFP: pooled pre-sorting libraries, in the 'baseline' fraction. This contains the -3 bp, -6 bp, -9 bp TRIAD libraries and the +-3 bp TriNEx substitution library. These were sorted separately, but pooled as one multiplexed fraction during Illumina sequencing.\n",
    "- GFP8: likewise on the stabilized GFP\n",
    "\n",
    "Sorted libraries: Each starting library (4 for eGFP, 4 for GFP8) was sorted into three fractions, separately. After sorting, the equal activity fractions were pooled between variants in the same GFP background and sequenced during the same run as input libraries. This gives 3 fractions (high activity, medium, negative) for each background.\n",
    "\n",
    "The `baseline` fractions give us starting information on the number of variants, their position, proportion of frameshifts - although this will be masked by pooling of libraries made with a different number of cloning steps. It is confounded by sequencing errors, which take the form of rare - usually observed in a single read - single nucleotide substitutions.\n",
    "\n",
    "\n",
    "#### How good is the coverage?\n",
    "\n",
    "To answer this, the coverage per position is generated from samtools depth files: each column is the sum of the entry for the assembled reads and the unassembled reads."
   ]
  },
  {
   "cell_type": "code",
   "execution_count": 13,
   "metadata": {},
   "outputs": [
    {
     "name": "stdout",
     "output_type": "stream",
     "text": [
      "         Position              N              H              M              L\n",
      "count  720.000000     720.000000     720.000000     720.000000     720.000000\n",
      "mean   360.500000  211827.069444  232456.100000  240617.313889  190645.451389\n",
      "std    207.990384   81186.338885   90805.762329   91355.710034   72179.939886\n",
      "min      1.000000       6.000000       3.000000       2.000000       8.000000\n",
      "25%    180.750000  195853.500000  213807.500000  220136.250000  176229.250000\n",
      "50%    360.500000  227635.500000  248485.500000  257848.500000  204940.500000\n",
      "75%    540.250000  271320.000000  300667.250000  308213.750000  243373.750000\n",
      "max    720.000000  393160.000000  439417.000000  449257.000000  351465.000000\n",
      "         Position              N              H              M              L\n",
      "count  720.000000     720.000000     720.000000     720.000000     720.000000\n",
      "mean   360.500000  204033.140278  178430.570833  216296.834722  201904.209722\n",
      "std    207.990384   78023.296509   68578.867682   85406.270809   75345.120915\n",
      "min      1.000000       6.000000       0.000000       6.000000       8.000000\n",
      "25%    180.750000  186382.500000  160097.750000  195411.750000  185770.000000\n",
      "50%    360.500000  217840.000000  188956.000000  227958.000000  216708.500000\n",
      "75%    540.250000  262200.250000  229155.500000  284892.500000  254623.000000\n",
      "max    720.000000  347118.000000  301817.000000  387859.000000  334949.000000\n"
     ]
    }
   ],
   "source": [
    "depth_e = pd.read_csv('depth_eGFP.csv')\n",
    "depth_8 = pd.read_csv('depth_GFP8.csv')\n",
    "print(depth_e.describe())\n",
    "print(depth_8.describe())"
   ]
  },
  {
   "cell_type": "code",
   "execution_count": 14,
   "metadata": {},
   "outputs": [
    {
     "data": {
      "image/png": "[encoded data removed]",
      "text/plain": [
       "<Figure size 720x360 with 2 Axes>"
      ]
     },
     "metadata": {
      "needs_background": "light"
     },
     "output_type": "display_data"
    }
   ],
   "source": [
    "plt.rcParams.update({'font.size': 12})\n",
    "\n",
    "fig1, (ax1, ax2)  = plt.subplots(1, 2, sharey=True, figsize=(10,5))\n",
    "\n",
    "ax1.set_title('Depth distribution in\\n eGFP sequencing')\n",
    "ax1.violinplot(dataset = [depth_e['N'], depth_e['H'], depth_e['M'], depth_e['L']], showmedians=True)\n",
    "\n",
    "ax2.set_title('Depth distribution in\\n GFP8 sequencing')\n",
    "ax2.violinplot(dataset = [depth_8['N'], depth_8['H'], depth_8['M'], depth_8['L']], showmedians=True)\n",
    "\n",
    "for ax in (ax1, ax2):\n",
    "    ax.xaxis.set_major_locator(plt.MultipleLocator(1))\n",
    "    ax.set_xticklabels(['','Baseline', 'High', 'Medium', 'Low'])\n",
    "    ax.set_xlabel('Sequencing library')\n",
    "    ax.ticklabel_format(axis='y', style='sci', scilimits=(0,1), useMathText=True)\n",
    "\n",
    "ax1.set_ylabel('Reads per base')\n",
    "\n",
    "plt.show()"
   ]
  },
  {
   "cell_type": "markdown",
   "metadata": {},
   "source": [
    "**Figure A**: Violin plot of sequencing depth per base distribution in GFP sequencing. The minimum, median and maximum depth for each sequencing fraction are shown with horizontal lines. All libraries show a tail of low coverage, which originates from positions at the beginning and end of each gene."
   ]
  },
  {
   "cell_type": "code",
   "execution_count": 15,
   "metadata": {},
   "outputs": [
    {
     "name": "stdout",
     "output_type": "stream",
     "text": [
      "eGFP > 150,000:  96 685\n",
      "GFP8 > 150,000:  97 667\n"
     ]
    }
   ],
   "source": [
    "# find positions where depth > 150,000\n",
    "print('eGFP > 150,000: ', depth_e[depth_e.L >= 150000].Position.min(), depth_e[depth_e.L >= 150000].Position.max())\n",
    "print('GFP8 > 150,000: ', depth_8[depth_8.H >= 150000].Position.min(), depth_8[depth_8.H >= 150000].Position.max())"
   ]
  },
  {
   "cell_type": "markdown",
   "metadata": {},
   "source": [
    "In both eGFP and GFP8 positions  in the baseline fraction, positions 96 - 691 inclusive have 150,000 reads per base or more. The above numbers show positions where coverage is above 150,000 reads fr the lowest coverage fraction."
   ]
  },
  {
   "cell_type": "code",
   "execution_count": 16,
   "metadata": {},
   "outputs": [
    {
     "data": {
      "image/png": "[encoded data removed]",
      "text/plain": [
       "<Figure size 648x576 with 2 Axes>"
      ]
     },
     "metadata": {
      "needs_background": "light"
     },
     "output_type": "display_data"
    }
   ],
   "source": [
    "sns.color_palette(\"colorblind\")\n",
    "\n",
    "\n",
    "fig1, (ax1, ax2)  = plt.subplots(2, 1, figsize=(9,8))\n",
    "\n",
    "\n",
    "for frac, label in {'N':'baseline', 'H':'high', 'M':'medium', 'L':'low'}.items():\n",
    "    ax1.plot(depth_e.Position, depth_e[frac], label=label)\n",
    "    ax2.plot(depth_8.Position, depth_8[frac], label=label)\n",
    "\n",
    "# ax1.plot(depth_e.Position, depth_e[['N', 'H', 'M', 'L']], label=['a','b','c','c'])\n",
    "# ax2.plot(depth_8.Position, depth_8[['N', 'H', 'M', 'L']])\n",
    "\n",
    "ax1.set_title('Sequencing coverage - eGFP')\n",
    "ax2.set_title('Sequencing coverage - GFP8')\n",
    "\n",
    "ax1.axvspan(96, 685, alpha=0.1, color='turquoise')\n",
    "ax2.axvspan(96, 667, alpha=0.1, color='turquoise')\n",
    "\n",
    "for ax in (ax1, ax2):\n",
    "    ax.ticklabel_format(axis='y', style='sci', scilimits=(0,1), useMathText=True)\n",
    "    ax.legend(loc=1, fontsize=11)\n",
    "    ax.axhline(y=150000, color='gray')\n",
    "    ax.set_xlabel('Position')\n",
    "    ax.set_ylabel('Total depth per base')\n",
    "\n",
    "plt.tight_layout()\n",
    "\n",
    "plt.show()"
   ]
  },
  {
   "cell_type": "markdown",
   "metadata": {},
   "source": [
    "**Figure B**: We see the sequencing depth is similar across fractions in the core part of the gene, but drops of at the ends of the fragment. While there is some variation between background and between fractions, the overall trend is the same. The horizontal line shows a depth of >150,000 reads per base and the shaded area shows the part of the gene where depth is at or above this depth in the fraction with lowest coverate (low activity for eGFP and high for GFP8)."
   ]
  },
  {
   "cell_type": "markdown",
   "metadata": {},
   "source": [
    "#### How many variants do we see?\n"
   ]
  },
  {
   "cell_type": "markdown",
   "metadata": {},
   "source": [
    "Load results, which are in the form of a nested dictionary. The levels are:\n",
    "- results (top level)\n",
    "- protein background: 'eGFP' or 'GFP8'\n",
    "- FACS fractions: 'H', 'L', 'MM', 'baseline'\n",
    "- protein mutations in tuple format: eg. ((204, 's', 'L'), (222, 's', 'G')) or ((130,'d'),)\n",
    "- data for each protein mutation:\n",
    "    - 'total' : total number of reads supporting this protein mutation. This aggregates data from distinct DNA mutations that are synonymous in their effect on protein sequence, including likely sequencing errors.\n",
    "    - 'depth' : average sequencing depth over this mutation\n",
    "    - 'dna' : dictionary listing counts for each DNA mutation, ie. {(DNA tuple) : integer }\n",
    "    - 'dna_hgvs' : a dictionary listing counts for each DNA mutation\n",
    "        - The key for each distinct DNA mutation is the HGVS-like standard for describing DNA variation\n",
    "        - Associated with each key is the count of reads that contain this DNA mutation\n",
    "        \n",
    "To access information for particular protein mutation:\n",
    "\n",
    "results['eGFP']['baseline'][protein_tuple]"
   ]
  },
  {
   "cell_type": "code",
   "execution_count": 17,
   "metadata": {},
   "outputs": [
    {
     "data": {
      "text/plain": [
       "dict_keys(['baseline', 'L', 'H', 'MM'])"
      ]
     },
     "execution_count": 17,
     "metadata": {},
     "output_type": "execute_result"
    }
   ],
   "source": [
    "with open('gfp_with_hgvs_20180827.p', 'rb') as f:\n",
    "    results = pickle.load(f)\n",
    "\n",
    "results['eGFP'].keys()"
   ]
  },
  {
   "cell_type": "markdown",
   "metadata": {},
   "source": [
    "At this stage, we are interested in the pre-sorting situation. Hence, this is an extension of the analysis before to see the distributions in the 'baseline' fractions.\n",
    "\n",
    "**Table E**: The number of all variants observed at least 1× in the unsorted libraries, combined. We see the numbers of detected deletions are  one the same order of magnitude to those in the 'ideal' case, indicating that these are variants in the library. However, the number of substitutions is much inflated: this category on DNA level contains the true substitutions, as well as all the sequencing errors. This is further supported by the large _number_ of detected 'sd' (substitution + deletion) libraries, far exceeding the number of detected deletions."
   ]
  },
  {
   "cell_type": "code",
   "execution_count": 18,
   "metadata": {},
   "outputs": [],
   "source": [
    "dna_count, dna_reads = get_dna_composition(results, 1)\n",
    "protein_count, protein_reads = get_full_protein_composition(results, 1)\n",
    "filt_prot_count, filt_prot_reads = get_filtered_protein_composition(results, 1)\n",
    "\n",
    "# Choose which \n",
    "fractions_all = ['eGFP.baseline', 'eGFP.H', 'eGFP.MM', 'eGFP.L', 'GFP8.baseline', 'GFP8.H', 'GFP8.MM', 'GFP8.L']\n",
    "\n",
    "df_dna_count = pd.DataFrame(dna_count, index=row_index_dna, columns=fractions_all)\n",
    "df_dna_reads = pd.DataFrame(dna_reads, index=row_index_dna, columns=fractions_all)"
   ]
  },
  {
   "cell_type": "code",
   "execution_count": 19,
   "metadata": {},
   "outputs": [
    {
     "data": {
      "text/html": [
       "<div>\n",
       "<style scoped>\n",
       "    .dataframe tbody tr th:only-of-type {\n",
       "        vertical-align: middle;\n",
       "    }\n",
       "\n",
       "    .dataframe tbody tr th {\n",
       "        vertical-align: top;\n",
       "    }\n",
       "\n",
       "    .dataframe thead th {\n",
       "        text-align: right;\n",
       "    }\n",
       "</style>\n",
       "<table border=\"1\" class=\"dataframe\">\n",
       "  <thead>\n",
       "    <tr style=\"text-align: right;\">\n",
       "      <th></th>\n",
       "      <th>eGFP.baseline</th>\n",
       "      <th>GFP8.baseline</th>\n",
       "    </tr>\n",
       "  </thead>\n",
       "  <tbody>\n",
       "    <tr>\n",
       "      <th>d3</th>\n",
       "      <td>443</td>\n",
       "      <td>434</td>\n",
       "    </tr>\n",
       "    <tr>\n",
       "      <th>d6</th>\n",
       "      <td>436</td>\n",
       "      <td>439</td>\n",
       "    </tr>\n",
       "    <tr>\n",
       "      <th>d9</th>\n",
       "      <td>394</td>\n",
       "      <td>399</td>\n",
       "    </tr>\n",
       "    <tr>\n",
       "      <th>f</th>\n",
       "      <td>4304</td>\n",
       "      <td>5687</td>\n",
       "    </tr>\n",
       "    <tr>\n",
       "      <th>s</th>\n",
       "      <td>17551</td>\n",
       "      <td>19861</td>\n",
       "    </tr>\n",
       "    <tr>\n",
       "      <th>sd</th>\n",
       "      <td>4388</td>\n",
       "      <td>3830</td>\n",
       "    </tr>\n",
       "    <tr>\n",
       "      <th>other</th>\n",
       "      <td>161</td>\n",
       "      <td>203</td>\n",
       "    </tr>\n",
       "  </tbody>\n",
       "</table>\n",
       "</div>"
      ],
      "text/plain": [
       "       eGFP.baseline  GFP8.baseline\n",
       "d3               443            434\n",
       "d6               436            439\n",
       "d9               394            399\n",
       "f               4304           5687\n",
       "s              17551          19861\n",
       "sd              4388           3830\n",
       "other            161            203"
      ]
     },
     "execution_count": 19,
     "metadata": {},
     "output_type": "execute_result"
    }
   ],
   "source": [
    "df_dna_count[['eGFP.baseline', 'GFP8.baseline']]"
   ]
  },
  {
   "cell_type": "code",
   "execution_count": 20,
   "metadata": {},
   "outputs": [
    {
     "data": {
      "text/html": [
       "<div>\n",
       "<style scoped>\n",
       "    .dataframe tbody tr th:only-of-type {\n",
       "        vertical-align: middle;\n",
       "    }\n",
       "\n",
       "    .dataframe tbody tr th {\n",
       "        vertical-align: top;\n",
       "    }\n",
       "\n",
       "    .dataframe thead th {\n",
       "        text-align: right;\n",
       "    }\n",
       "</style>\n",
       "<table border=\"1\" class=\"dataframe\">\n",
       "  <thead>\n",
       "    <tr style=\"text-align: right;\">\n",
       "      <th></th>\n",
       "      <th>eGFP.baseline</th>\n",
       "      <th>GFP8.baseline</th>\n",
       "    </tr>\n",
       "  </thead>\n",
       "  <tbody>\n",
       "    <tr>\n",
       "      <th>d3</th>\n",
       "      <td>40073</td>\n",
       "      <td>29830</td>\n",
       "    </tr>\n",
       "    <tr>\n",
       "      <th>d6</th>\n",
       "      <td>34508</td>\n",
       "      <td>19252</td>\n",
       "    </tr>\n",
       "    <tr>\n",
       "      <th>d9</th>\n",
       "      <td>34776</td>\n",
       "      <td>30195</td>\n",
       "    </tr>\n",
       "    <tr>\n",
       "      <th>f</th>\n",
       "      <td>23792</td>\n",
       "      <td>39243</td>\n",
       "    </tr>\n",
       "    <tr>\n",
       "      <th>s</th>\n",
       "      <td>107685</td>\n",
       "      <td>122277</td>\n",
       "    </tr>\n",
       "    <tr>\n",
       "      <th>sd</th>\n",
       "      <td>4800</td>\n",
       "      <td>4184</td>\n",
       "    </tr>\n",
       "    <tr>\n",
       "      <th>other</th>\n",
       "      <td>1289</td>\n",
       "      <td>1455</td>\n",
       "    </tr>\n",
       "  </tbody>\n",
       "</table>\n",
       "</div>"
      ],
      "text/plain": [
       "       eGFP.baseline  GFP8.baseline\n",
       "d3             40073          29830\n",
       "d6             34508          19252\n",
       "d9             34776          30195\n",
       "f              23792          39243\n",
       "s             107685         122277\n",
       "sd              4800           4184\n",
       "other           1289           1455"
      ]
     },
     "execution_count": 20,
     "metadata": {},
     "output_type": "execute_result"
    }
   ],
   "source": [
    "df_dna_reads[['eGFP.baseline', 'GFP8.baseline']]"
   ]
  },
  {
   "cell_type": "markdown",
   "metadata": {},
   "source": [
    "We see that the number of reads corresponding to 'sd' variants is an order of magnitude smaller than reads supporting true deletions, which is in line with the premise that those mutations are primarily sequencing errors."
   ]
  },
  {
   "cell_type": "markdown",
   "metadata": {},
   "source": [
    "<font color=blue>\n",
    "    \n",
    "**Possible space for improvement: break down the DNA classification to reads containing:**\n",
    "    \n",
    "- only a single nucleotide mutation (could be a true variant or sequencing error)\n",
    "- double nucleotide mutations, eg nnAATnn > nnACAnn (generated by TriNEx)\n",
    "- triple nucleotide mutations (genereted by TriNeEx)\n",
    "- non-consecutive single nucleotide mutations (sequencing errors)\n",
    "\n",
    "How to do this? If the classification function on DNA level reads as a substitution, extract the positions and check for conscutiveness. Make sure the NTN/NCN/NAN/NGN mutations are accepted, ie. a triplet exchange where the first and last positions change but the middle is accidentally the same.\n",
    "<\\font>"
   ]
  },
  {
   "cell_type": "markdown",
   "metadata": {},
   "source": [
    "Divide this by the ideal distribution calculated before to see what % deletions and substitutions we are seeing. The substitution figure is less reliable.\n",
    "\n",
    "**Table F**: Proportion of observed DNA mutations in unsorted libraries compared to ideal composition - ie. what % of positions do we access."
   ]
  },
  {
   "cell_type": "code",
   "execution_count": 21,
   "metadata": {},
   "outputs": [
    {
     "data": {
      "text/html": [
       "<div>\n",
       "<style scoped>\n",
       "    .dataframe tbody tr th:only-of-type {\n",
       "        vertical-align: middle;\n",
       "    }\n",
       "\n",
       "    .dataframe tbody tr th {\n",
       "        vertical-align: top;\n",
       "    }\n",
       "\n",
       "    .dataframe thead th {\n",
       "        text-align: right;\n",
       "    }\n",
       "</style>\n",
       "<table border=\"1\" class=\"dataframe\">\n",
       "  <thead>\n",
       "    <tr style=\"text-align: right;\">\n",
       "      <th></th>\n",
       "      <th>eGFP.baseline</th>\n",
       "      <th>GFP8.baseline</th>\n",
       "    </tr>\n",
       "  </thead>\n",
       "  <tbody>\n",
       "    <tr>\n",
       "      <th>d3</th>\n",
       "      <td>0.840607</td>\n",
       "      <td>0.818868</td>\n",
       "    </tr>\n",
       "    <tr>\n",
       "      <th>d6</th>\n",
       "      <td>0.872000</td>\n",
       "      <td>0.871032</td>\n",
       "    </tr>\n",
       "    <tr>\n",
       "      <th>d9</th>\n",
       "      <td>0.771037</td>\n",
       "      <td>0.777778</td>\n",
       "    </tr>\n",
       "    <tr>\n",
       "      <th>f</th>\n",
       "      <td>inf</td>\n",
       "      <td>inf</td>\n",
       "    </tr>\n",
       "    <tr>\n",
       "      <th>s</th>\n",
       "      <td>0.531382</td>\n",
       "      <td>0.601411</td>\n",
       "    </tr>\n",
       "    <tr>\n",
       "      <th>sd</th>\n",
       "      <td>inf</td>\n",
       "      <td>inf</td>\n",
       "    </tr>\n",
       "    <tr>\n",
       "      <th>other</th>\n",
       "      <td>inf</td>\n",
       "      <td>inf</td>\n",
       "    </tr>\n",
       "  </tbody>\n",
       "</table>\n",
       "</div>"
      ],
      "text/plain": [
       "       eGFP.baseline  GFP8.baseline\n",
       "d3          0.840607       0.818868\n",
       "d6          0.872000       0.871032\n",
       "d9          0.771037       0.777778\n",
       "f                inf            inf\n",
       "s           0.531382       0.601411\n",
       "sd               inf            inf\n",
       "other            inf            inf"
      ]
     },
     "execution_count": 21,
     "metadata": {},
     "output_type": "execute_result"
    }
   ],
   "source": [
    "id_dna_count['eGFP.baseline'] = id_dna_count['eGFP.base_d369'] + id_dna_count['eGFP.base_s3']\n",
    "id_dna_count['GFP8.baseline'] = id_dna_count['GFP8.base_d369'] + id_dna_count['GFP8.base_s3']\n",
    "\n",
    "dna_base_compare = df_dna_count[['eGFP.baseline', 'GFP8.baseline']]\n",
    "dna_base_compare.div(id_dna_count[['eGFP.baseline', 'GFP8.baseline']])"
   ]
  },
  {
   "cell_type": "markdown",
   "metadata": {},
   "source": [
    "#### Interpretation of starting DNA library composition with non-stringent filtering\n",
    "\n",
    "We see 300-450 variants per starting. The GFP gene is ~720 bp long, depending on where one sets the end of the gene (HindIII restriction site, His tag, barcode etc.). The theoretical diversity of an InDel library depends on the starting sequence: we know from analysis of PTE data that for deletions, the maximum diversity is about 0.75 distinct deletions per bp of gene length.\n",
    "\n",
    "expected max size = 0.75 × 720 = 540 variants\n",
    "\n",
    "The sequencing coverage is very low in the first and last 50 bp of the sequenced fragments, which was a technical limitation of the restriction site positions. Accounting for that, the effective fragment length is ~620 bp and we should see ~465 variants per library for full coverage.\n",
    "\n",
    "We see that the baseline libraries contain 400-440 variants, more for the smaller and less for the larger variants. Hence, the starting detection looks good.\n",
    "\n",
    "There is a substantial number of substitutions (`s`), which are mostly WT reads with sequencing errors, and combinations of deletions + substitutions (`sd`), where a true deletion is accompanied by a sequencing error. There may be true variants hidden in these fractions. The total number of variants with sub substitutions is much larger than pure target variants: for a common variant, there is only one correct variant but many ways it can be accompanied by a  sequencing error. In this way sequencing errors inflate the number of variants, by creating lots of rare variants."
   ]
  },
  {
   "cell_type": "code",
   "execution_count": 22,
   "metadata": {},
   "outputs": [
    {
     "data": {
      "text/html": [
       "<div>\n",
       "<style scoped>\n",
       "    .dataframe tbody tr th:only-of-type {\n",
       "        vertical-align: middle;\n",
       "    }\n",
       "\n",
       "    .dataframe tbody tr th {\n",
       "        vertical-align: top;\n",
       "    }\n",
       "\n",
       "    .dataframe thead th {\n",
       "        text-align: right;\n",
       "    }\n",
       "</style>\n",
       "<table border=\"1\" class=\"dataframe\">\n",
       "  <thead>\n",
       "    <tr style=\"text-align: right;\">\n",
       "      <th></th>\n",
       "      <th>eGFP.baseline</th>\n",
       "      <th>GFP8.baseline</th>\n",
       "    </tr>\n",
       "  </thead>\n",
       "  <tbody>\n",
       "    <tr>\n",
       "      <th>d3</th>\n",
       "      <td>40073</td>\n",
       "      <td>29830</td>\n",
       "    </tr>\n",
       "    <tr>\n",
       "      <th>d6</th>\n",
       "      <td>34508</td>\n",
       "      <td>19252</td>\n",
       "    </tr>\n",
       "    <tr>\n",
       "      <th>d9</th>\n",
       "      <td>34776</td>\n",
       "      <td>30195</td>\n",
       "    </tr>\n",
       "    <tr>\n",
       "      <th>f</th>\n",
       "      <td>23792</td>\n",
       "      <td>39243</td>\n",
       "    </tr>\n",
       "    <tr>\n",
       "      <th>s</th>\n",
       "      <td>107685</td>\n",
       "      <td>122277</td>\n",
       "    </tr>\n",
       "    <tr>\n",
       "      <th>sd</th>\n",
       "      <td>4800</td>\n",
       "      <td>4184</td>\n",
       "    </tr>\n",
       "    <tr>\n",
       "      <th>other</th>\n",
       "      <td>1289</td>\n",
       "      <td>1455</td>\n",
       "    </tr>\n",
       "  </tbody>\n",
       "</table>\n",
       "</div>"
      ],
      "text/plain": [
       "       eGFP.baseline  GFP8.baseline\n",
       "d3             40073          29830\n",
       "d6             34508          19252\n",
       "d9             34776          30195\n",
       "f              23792          39243\n",
       "s             107685         122277\n",
       "sd              4800           4184\n",
       "other           1289           1455"
      ]
     },
     "execution_count": 22,
     "metadata": {},
     "output_type": "execute_result"
    }
   ],
   "source": [
    "df_dna_reads[['eGFP.baseline', 'GFP8.baseline']]"
   ]
  },
  {
   "cell_type": "markdown",
   "metadata": {},
   "source": [
    "The previous intuition is confirmed here: deletions in each library, each background are supported by 20K-40K reads each. Pure substitutions are still abundant, becaue the analysis starts with selecting ALL reads that deviate from WT - ie. we capture the true variants as well as all the noise.\n",
    "\n",
    "\n",
    "#### Increase filtering stringency to 10 to examine substitutions\n",
    "\n",
    "Re-examine statistics tables with more stringent filtering, to only consider mutations that were observed 5 or more times on DNA level."
   ]
  },
  {
   "cell_type": "code",
   "execution_count": 23,
   "metadata": {},
   "outputs": [
    {
     "data": {
      "text/html": [
       "<div>\n",
       "<style scoped>\n",
       "    .dataframe tbody tr th:only-of-type {\n",
       "        vertical-align: middle;\n",
       "    }\n",
       "\n",
       "    .dataframe tbody tr th {\n",
       "        vertical-align: top;\n",
       "    }\n",
       "\n",
       "    .dataframe thead th {\n",
       "        text-align: right;\n",
       "    }\n",
       "</style>\n",
       "<table border=\"1\" class=\"dataframe\">\n",
       "  <thead>\n",
       "    <tr style=\"text-align: right;\">\n",
       "      <th></th>\n",
       "      <th>eGFP.baseline</th>\n",
       "      <th>GFP8.baseline</th>\n",
       "    </tr>\n",
       "  </thead>\n",
       "  <tbody>\n",
       "    <tr>\n",
       "      <th>d3</th>\n",
       "      <td>0.830700</td>\n",
       "      <td>0.811060</td>\n",
       "    </tr>\n",
       "    <tr>\n",
       "      <th>d6</th>\n",
       "      <td>0.855505</td>\n",
       "      <td>0.790433</td>\n",
       "    </tr>\n",
       "    <tr>\n",
       "      <th>d9</th>\n",
       "      <td>0.829949</td>\n",
       "      <td>0.796992</td>\n",
       "    </tr>\n",
       "    <tr>\n",
       "      <th>f</th>\n",
       "      <td>0.223745</td>\n",
       "      <td>0.257078</td>\n",
       "    </tr>\n",
       "    <tr>\n",
       "      <th>s</th>\n",
       "      <td>0.285169</td>\n",
       "      <td>0.269221</td>\n",
       "    </tr>\n",
       "    <tr>\n",
       "      <th>sd</th>\n",
       "      <td>0.002963</td>\n",
       "      <td>0.003133</td>\n",
       "    </tr>\n",
       "    <tr>\n",
       "      <th>other</th>\n",
       "      <td>0.130435</td>\n",
       "      <td>0.133005</td>\n",
       "    </tr>\n",
       "  </tbody>\n",
       "</table>\n",
       "</div>"
      ],
      "text/plain": [
       "       eGFP.baseline  GFP8.baseline\n",
       "d3          0.830700       0.811060\n",
       "d6          0.855505       0.790433\n",
       "d9          0.829949       0.796992\n",
       "f           0.223745       0.257078\n",
       "s           0.285169       0.269221\n",
       "sd          0.002963       0.003133\n",
       "other       0.130435       0.133005"
      ]
     },
     "execution_count": 23,
     "metadata": {},
     "output_type": "execute_result"
    }
   ],
   "source": [
    "dna_count_r, dna_reads_r = get_dna_composition(results, 5)\n",
    "df = pd.DataFrame(dna_count_r, index=row_index_dna, columns=fractions_all)\n",
    "df[['eGFP.baseline', 'GFP8.baseline']].div(df_dna_count[['eGFP.baseline', 'GFP8.baseline']])"
   ]
  },
  {
   "cell_type": "code",
   "execution_count": 24,
   "metadata": {},
   "outputs": [
    {
     "data": {
      "text/html": [
       "<div>\n",
       "<style scoped>\n",
       "    .dataframe tbody tr th:only-of-type {\n",
       "        vertical-align: middle;\n",
       "    }\n",
       "\n",
       "    .dataframe tbody tr th {\n",
       "        vertical-align: top;\n",
       "    }\n",
       "\n",
       "    .dataframe thead th {\n",
       "        text-align: right;\n",
       "    }\n",
       "</style>\n",
       "<table border=\"1\" class=\"dataframe\">\n",
       "  <thead>\n",
       "    <tr style=\"text-align: right;\">\n",
       "      <th></th>\n",
       "      <th>eGFP.baseline</th>\n",
       "      <th>GFP8.baseline</th>\n",
       "    </tr>\n",
       "  </thead>\n",
       "  <tbody>\n",
       "    <tr>\n",
       "      <th>d3</th>\n",
       "      <td>0.996157</td>\n",
       "      <td>0.994335</td>\n",
       "    </tr>\n",
       "    <tr>\n",
       "      <th>d6</th>\n",
       "      <td>0.996146</td>\n",
       "      <td>0.988313</td>\n",
       "    </tr>\n",
       "    <tr>\n",
       "      <th>d9</th>\n",
       "      <td>0.996003</td>\n",
       "      <td>0.993973</td>\n",
       "    </tr>\n",
       "    <tr>\n",
       "      <th>f</th>\n",
       "      <td>0.783246</td>\n",
       "      <td>0.835665</td>\n",
       "    </tr>\n",
       "    <tr>\n",
       "      <th>s</th>\n",
       "      <td>0.812852</td>\n",
       "      <td>0.811469</td>\n",
       "    </tr>\n",
       "    <tr>\n",
       "      <th>sd</th>\n",
       "      <td>0.025417</td>\n",
       "      <td>0.022706</td>\n",
       "    </tr>\n",
       "    <tr>\n",
       "      <th>other</th>\n",
       "      <td>0.856478</td>\n",
       "      <td>0.834364</td>\n",
       "    </tr>\n",
       "  </tbody>\n",
       "</table>\n",
       "</div>"
      ],
      "text/plain": [
       "       eGFP.baseline  GFP8.baseline\n",
       "d3          0.996157       0.994335\n",
       "d6          0.996146       0.988313\n",
       "d9          0.996003       0.993973\n",
       "f           0.783246       0.835665\n",
       "s           0.812852       0.811469\n",
       "sd          0.025417       0.022706\n",
       "other       0.856478       0.834364"
      ]
     },
     "execution_count": 24,
     "metadata": {},
     "output_type": "execute_result"
    }
   ],
   "source": [
    "df = pd.DataFrame(dna_reads_r, index=row_index_dna, columns=fractions_all)\n",
    "df[['eGFP.baseline', 'GFP8.baseline']].div(df_dna_reads[['eGFP.baseline', 'GFP8.baseline']])"
   ]
  },
  {
   "cell_type": "markdown",
   "metadata": {},
   "source": [
    "The above tables show that by filtering the composition analysis to only include the variants that were observed 5 or more times, we retain 80% of observed deletions, which still account for 99% reads with deletions. In substitutions, this filtering retains 28% of all observed substitutions, many of which are sequencing errors. The 'true' TriNEx variants are supported by 81% of all reads containing substitutions.\n",
    "\n",
    "**Table G**: Number of distinct protein variants observed 5 or more times, before sorting the libraries."
   ]
  },
  {
   "cell_type": "code",
   "execution_count": 25,
   "metadata": {},
   "outputs": [
    {
     "data": {
      "text/html": [
       "<div>\n",
       "<style scoped>\n",
       "    .dataframe tbody tr th:only-of-type {\n",
       "        vertical-align: middle;\n",
       "    }\n",
       "\n",
       "    .dataframe tbody tr th {\n",
       "        vertical-align: top;\n",
       "    }\n",
       "\n",
       "    .dataframe thead th {\n",
       "        text-align: right;\n",
       "    }\n",
       "</style>\n",
       "<table border=\"1\" class=\"dataframe\">\n",
       "  <thead>\n",
       "    <tr style=\"text-align: right;\">\n",
       "      <th></th>\n",
       "      <th>eGFP.baseline</th>\n",
       "      <th>GFP8.baseline</th>\n",
       "    </tr>\n",
       "  </thead>\n",
       "  <tbody>\n",
       "    <tr>\n",
       "      <th>d</th>\n",
       "      <td>194</td>\n",
       "      <td>186</td>\n",
       "    </tr>\n",
       "    <tr>\n",
       "      <th>c-sd</th>\n",
       "      <td>113</td>\n",
       "      <td>110</td>\n",
       "    </tr>\n",
       "    <tr>\n",
       "      <th>c-dd</th>\n",
       "      <td>191</td>\n",
       "      <td>183</td>\n",
       "    </tr>\n",
       "    <tr>\n",
       "      <th>c-sdd</th>\n",
       "      <td>111</td>\n",
       "      <td>105</td>\n",
       "    </tr>\n",
       "    <tr>\n",
       "      <th>c-ddd</th>\n",
       "      <td>183</td>\n",
       "      <td>176</td>\n",
       "    </tr>\n",
       "    <tr>\n",
       "      <th>c-sddd</th>\n",
       "      <td>99</td>\n",
       "      <td>105</td>\n",
       "    </tr>\n",
       "    <tr>\n",
       "      <th>s</th>\n",
       "      <td>2118</td>\n",
       "      <td>2220</td>\n",
       "    </tr>\n",
       "    <tr>\n",
       "      <th>c-ss</th>\n",
       "      <td>820</td>\n",
       "      <td>925</td>\n",
       "    </tr>\n",
       "    <tr>\n",
       "      <th>*</th>\n",
       "      <td>181</td>\n",
       "      <td>184</td>\n",
       "    </tr>\n",
       "  </tbody>\n",
       "</table>\n",
       "</div>"
      ],
      "text/plain": [
       "        eGFP.baseline  GFP8.baseline\n",
       "d                 194            186\n",
       "c-sd              113            110\n",
       "c-dd              191            183\n",
       "c-sdd             111            105\n",
       "c-ddd             183            176\n",
       "c-sddd             99            105\n",
       "s                2118           2220\n",
       "c-ss              820            925\n",
       "*                 181            184"
      ]
     },
     "execution_count": 25,
     "metadata": {},
     "output_type": "execute_result"
    }
   ],
   "source": [
    "filt_prot_count_r, filt_prot_reads_r = get_filtered_protein_composition(results, 5)\n",
    "df = pd.DataFrame(filt_prot_count_r, index=row_index_prot, columns=fractions_all)\n",
    "df[['eGFP.baseline', 'GFP8.baseline']]"
   ]
  },
  {
   "cell_type": "markdown",
   "metadata": {},
   "source": [
    "- x-axis: Number of times a mutation is observed: 1, 2, 3, ....\n",
    "- y-axis: Histogram - how many such mutations are there\n",
    "\n",
    "In case of substitutions, this counts ALL reads that contain ANY kind of substitution: NNN exchanges, sequencing errors, bad quality end of reads, etc."
   ]
  },
  {
   "cell_type": "code",
   "execution_count": 26,
   "metadata": {},
   "outputs": [],
   "source": [
    "def dna_mutation_frequencies(results):\n",
    "    \"\"\"\n",
    "    Generate data for a histogram of DNA mutation frequencies - how many occur once, twice, ...\n",
    "    \n",
    "    :param all_references:\n",
    "    :return:\n",
    "    \"\"\"\n",
    "    bg = ['eGFP', 'GFP8']\n",
    "    frac = ['baseline']\n",
    "    tps = ['d3', 'd6', 'd9', 's']\n",
    "    \n",
    "    freq = {}  # for each library ('d3', 'i6', etc.) give a dictionary {1: 5 times, 2: 3 times...}\n",
    "    \n",
    "    for background in bg:\n",
    "        for fraction in frac:\n",
    "            # set up a counter dictionary\n",
    "            for t in tps:\n",
    "                k = '.'.join([background,fraction])\n",
    "                freq[k +  '.' + t] = Counter()\n",
    "            \n",
    "            for prot_mutation, entry in results[background][fraction].items():\n",
    "                for dna_mutation, dna_c in entry['dna'].items():\n",
    "                    dna_mut_type = classify_dna(dna_mutation)\n",
    "                    prot_mut_type = classify_protein(prot_mutation)\n",
    "                    if dna_mut_type in tps:\n",
    "                        if prot_mut_type in dna_protein_correspondence(dna_mut_type):\n",
    "                            freq[k + '.' + dna_mut_type][dna_c] += 1\n",
    "    return freq\n",
    "\n",
    "hist_Poisson = dna_mutation_frequencies(results)"
   ]
  },
  {
   "cell_type": "code",
   "execution_count": 27,
   "metadata": {},
   "outputs": [
    {
     "data": {
      "text/html": [
       "<div>\n",
       "<style scoped>\n",
       "    .dataframe tbody tr th:only-of-type {\n",
       "        vertical-align: middle;\n",
       "    }\n",
       "\n",
       "    .dataframe tbody tr th {\n",
       "        vertical-align: top;\n",
       "    }\n",
       "\n",
       "    .dataframe thead th {\n",
       "        text-align: right;\n",
       "    }\n",
       "</style>\n",
       "<table border=\"1\" class=\"dataframe\">\n",
       "  <thead>\n",
       "    <tr style=\"text-align: right;\">\n",
       "      <th></th>\n",
       "      <th>eGFP.baseline.d3</th>\n",
       "      <th>eGFP.baseline.d6</th>\n",
       "      <th>eGFP.baseline.d9</th>\n",
       "      <th>eGFP.baseline.s</th>\n",
       "      <th>GFP8.baseline.d3</th>\n",
       "      <th>GFP8.baseline.d6</th>\n",
       "      <th>GFP8.baseline.d9</th>\n",
       "      <th>GFP8.baseline.s</th>\n",
       "    </tr>\n",
       "  </thead>\n",
       "  <tbody>\n",
       "    <tr>\n",
       "      <th>1</th>\n",
       "      <td>34</td>\n",
       "      <td>25</td>\n",
       "      <td>31</td>\n",
       "      <td>5458</td>\n",
       "      <td>37</td>\n",
       "      <td>22</td>\n",
       "      <td>27</td>\n",
       "      <td>6331</td>\n",
       "    </tr>\n",
       "    <tr>\n",
       "      <th>2</th>\n",
       "      <td>13</td>\n",
       "      <td>16</td>\n",
       "      <td>11</td>\n",
       "      <td>2093</td>\n",
       "      <td>19</td>\n",
       "      <td>26</td>\n",
       "      <td>22</td>\n",
       "      <td>2361</td>\n",
       "    </tr>\n",
       "    <tr>\n",
       "      <th>3</th>\n",
       "      <td>18</td>\n",
       "      <td>12</td>\n",
       "      <td>14</td>\n",
       "      <td>1321</td>\n",
       "      <td>10</td>\n",
       "      <td>25</td>\n",
       "      <td>17</td>\n",
       "      <td>1547</td>\n",
       "    </tr>\n",
       "    <tr>\n",
       "      <th>4</th>\n",
       "      <td>10</td>\n",
       "      <td>10</td>\n",
       "      <td>11</td>\n",
       "      <td>922</td>\n",
       "      <td>16</td>\n",
       "      <td>19</td>\n",
       "      <td>15</td>\n",
       "      <td>998</td>\n",
       "    </tr>\n",
       "    <tr>\n",
       "      <th>5</th>\n",
       "      <td>18</td>\n",
       "      <td>7</td>\n",
       "      <td>10</td>\n",
       "      <td>680</td>\n",
       "      <td>16</td>\n",
       "      <td>17</td>\n",
       "      <td>8</td>\n",
       "      <td>747</td>\n",
       "    </tr>\n",
       "  </tbody>\n",
       "</table>\n",
       "</div>"
      ],
      "text/plain": [
       "   eGFP.baseline.d3  eGFP.baseline.d6  eGFP.baseline.d9  eGFP.baseline.s  \\\n",
       "1                34                25                31             5458   \n",
       "2                13                16                11             2093   \n",
       "3                18                12                14             1321   \n",
       "4                10                10                11              922   \n",
       "5                18                 7                10              680   \n",
       "\n",
       "   GFP8.baseline.d3  GFP8.baseline.d6  GFP8.baseline.d9  GFP8.baseline.s  \n",
       "1                37                22                27             6331  \n",
       "2                19                26                22             2361  \n",
       "3                10                25                17             1547  \n",
       "4                16                19                15              998  \n",
       "5                16                17                 8              747  "
      ]
     },
     "execution_count": 27,
     "metadata": {},
     "output_type": "execute_result"
    }
   ],
   "source": [
    "cols = ['.'.join([k, t]) for k in ['eGFP.baseline', 'GFP8.baseline'] for t in ['d3', 'd6', 'd9', 's']]\n",
    "\n",
    "df_hist_Poisson = pd.DataFrame(hist_Poisson, columns=cols).fillna(0).astype('int32')\n",
    "df_hist_Poisson.head()"
   ]
  },
  {
   "cell_type": "code",
   "execution_count": 28,
   "metadata": {},
   "outputs": [
    {
     "data": {
      "image/png": "[encoded data removed]",
      "text/plain": [
       "<Figure size 792x360 with 2 Axes>"
      ]
     },
     "metadata": {
      "needs_background": "light"
     },
     "output_type": "display_data"
    }
   ],
   "source": [
    "def hist_simple_ax(df, colnames, cutoffs,titles, colors):\n",
    "    \"\"\"\n",
    "    This plot format works nicely for substitutions, so optimize it for that.\n",
    "    \"\"\"\n",
    "            \n",
    "    f, axes = plt.subplots(1,2, figsize=(11,5))\n",
    "\n",
    "    for i in range(len(axes)):\n",
    "        colname = colnames[i]\n",
    "        cutoff = cutoffs[i]\n",
    "        ax = axes[i]\n",
    "        title = titles[i]\n",
    "        color = colors[i]\n",
    "    \n",
    "        # SET UP THE DATA\n",
    "        # if cutoff=10: get bins for 1,2,3...8,9, then 10+\n",
    "        hist_data = df[colname].loc[:cutoff-1] # selecting rows up to cutoff\n",
    "        max_value = hist_data.max()\n",
    "        after_trunc = df[colname].loc[cutoff:].sum()\n",
    "\n",
    "        hist_data.loc[cutoff] = after_trunc # that has the data with the last entry in series being cumulative\n",
    "    \n",
    "        bins = list(range(1, cutoff)) + [cutoff + 1] # this sets the x-coords of bars\n",
    "\n",
    "        ax.bar(bins,hist_data, color=color)\n",
    "        ax.set_title(title)\n",
    "\n",
    "        ax.set_xlabel('Count (X)')\n",
    "        ax.set_ylabel('Number of variants in library observed X-times')\n",
    "\n",
    "        # set the tick label for overflow bin\n",
    "        xlabels = [str(pos) for pos in bins] # set the labels from bin positions\n",
    "        xlabels[-1] = str(cutoff) + '+' # fix the last label to be the cumulative bin\n",
    "        ax.xaxis.set_ticks(bins)\n",
    "        ax.set_xticklabels(xlabels)\n",
    "\n",
    "    #f.savefig('FigS7_' + library +'.png', format='png', dpi=600)\n",
    "    plt.tight_layout()\n",
    "    plt.show()\n",
    "\n",
    "hist_simple_ax(df_hist_Poisson,['eGFP.baseline.s','GFP8.baseline.s'], [10,10], \n",
    "               ['eGFP substitutions', 'GFP8 substitutions'], ['darkslateblue', 'steelblue']) "
   ]
  },
  {
   "cell_type": "markdown",
   "metadata": {},
   "source": [
    "**Figure C**: Because of the difficulty of properly filtering substitutions, the number of observed substitutions runs in the thousands. Most are observed up to five times, but there are more than 2000 distinct substitutions that are observed 10 or more times each. In particular, the number of spurious substitutions are are seen only once exceeds 5000 in each library, and these are mostly sequencing errors."
   ]
  },
  {
   "cell_type": "code",
   "execution_count": 29,
   "metadata": {},
   "outputs": [
    {
     "data": {
      "image/png": "[encoded data removed]",
      "text/plain": [
       "<Figure size 1152x360 with 3 Axes>"
      ]
     },
     "metadata": {
      "needs_background": "light"
     },
     "output_type": "display_data"
    }
   ],
   "source": [
    "def hist_man_bins(df, colnames, cutoffs,titles, color='darkslateblue'):\n",
    "    \"\"\"\n",
    "    Set the cutoffs betwen which we aggregate values, such that we count:\n",
    "     - 1, 2, 3, ... up to 49\n",
    "     - 50-74\n",
    "     - 75-99 etc.\n",
    "     \n",
    "     :param df: dataframe from which to draw the data\n",
    "     :param colname: string with column name \n",
    "     :param title: string with chart title\n",
    "     :param cutoffs: list with UPPER bounds of each section, eg [49, 199] to get a detailed breakdown up to 49 mutations, \n",
    "     a bin for [50,199] inclusive and a bin for 200+\n",
    "    \"\"\"\n",
    "            \n",
    "    f, axes = plt.subplots(1,3, figsize=(16,5))\n",
    "    \n",
    "    n_agg_bins = len(cutoffs) # if we have N cutoff, then indices 0-(N-1) are left separate and \n",
    "    # set the x-coordinates of bins\n",
    "    bins_reg = list(range(1, cutoffs[0]))\n",
    "    # agg bins are spaced by 2\n",
    "    bins_agg = list(range(cutoffs[0] + 1, cutoffs[0] + 2*n_agg_bins + 1, 2))\n",
    "    bins = bins_reg + bins_agg\n",
    "    \n",
    "    # set the tick label for overflow bin\n",
    "    xlabels = [str(pos) for pos in bins_reg] # set the labels from bin positions\n",
    "    for i in range(len(bins_agg) -1):\n",
    "        xlabels.append(str(cutoffs[i]) + '\\n-' + str(cutoffs[i+1] -1))\n",
    "    xlabels.append(str(cutoffs[-1]) + '\\n+') # fix the last label to be the cumulative bin\n",
    "    \n",
    "    for i in range(len(axes)):\n",
    "        colname = colnames[i]\n",
    "        ax = axes[i]\n",
    "        title = titles[i]\n",
    "    \n",
    "        # SET UP THE DATA\n",
    "        # eg. cutoffs = [10, 15, 20, 50, 100]\n",
    "        # aggregated df needs 9 rows (i=0-8) for separated data, then 5 extra rows for aggregated data\n",
    "        # so the separate rows: cutoffs[0] -1\n",
    "\n",
    "        \n",
    "        hist_data = df[colname].iloc[:cutoffs[0] - 1 + n_agg_bins] # prepare sufficient space\n",
    "        \n",
    "        # now fill in aggregated data\n",
    "        # select rows by index value (.loc)\n",
    "        # both first and last index of slice (eg. .loc[1:9]) are included\n",
    "        for l in range(0, n_agg_bins - 1): # the last bin needs to be open ended\n",
    "            agg_cnt = df[colname].loc[cutoffs[l]:cutoffs[l+1]- 1].sum()\n",
    "            # next we slot this value in the next available row\n",
    "            hist_data.iloc[cutoffs[0] - 1 + l] = agg_cnt\n",
    "        # and the last bin\n",
    "        cnt_last = df[colname].loc[cutoffs[-1]:].sum()\n",
    "        hist_data.iloc[cutoffs[0]  - 2 + n_agg_bins] = cnt_last # that has the data with the last entry in series being cumulative\n",
    "        \n",
    "        ax.bar(bins,hist_data, color=color)\n",
    "        ax.set_title(title)\n",
    "\n",
    "        ax.set_xlabel('Count (X)')\n",
    "        ax.set_ylabel('Number of variants in library observed X-times')\n",
    "\n",
    "        ax.xaxis.set_ticks(bins)\n",
    "        ax.set_xticklabels(xlabels)\n",
    "\n",
    "    #f.savefig('FigS7_' + library +'.png', format='png', dpi=600)\n",
    "    plt.tight_layout()\n",
    "    plt.show()\n",
    "\n",
    "hist_man_bins(df_hist_Poisson,['eGFP.baseline.d3','eGFP.baseline.d6', 'eGFP.baseline.d9'], [10,25,50,75,100,200,500], ['eGFP -3 bp', 'eGFP -6 bp', 'eGFP -9 bp']) "
   ]
  },
  {
   "cell_type": "code",
   "execution_count": 30,
   "metadata": {},
   "outputs": [
    {
     "data": {
      "image/png": "[encoded data removed]",
      "text/plain": [
       "<Figure size 1152x360 with 3 Axes>"
      ]
     },
     "metadata": {
      "needs_background": "light"
     },
     "output_type": "display_data"
    }
   ],
   "source": [
    "hist_man_bins(df_hist_Poisson,['GFP8.baseline.d3','GFP8.baseline.d6', 'GFP8.baseline.d9'], [10,25,50,75,100,200,500], \n",
    "              ['GFP8 -3 bp', 'GFP8 -6 bp', 'GFP8 -9 bp'], color='steelblue') "
   ]
  },
  {
   "cell_type": "markdown",
   "metadata": {},
   "source": [
    "**Figure D**: These plots show the distribution of the number of distinct variants observed at baseline (y-axis) compared to the number of supporting observations (x-axis). A minority of deletion variants are supported by <10 sequencing reads and the distribution for each type of mutation and baseline library is shown on the left parts of each histogram. For higher counts, the variants are aggregated: we observed several hundred variants that are observed 10 or more times, as well as ~100 variants per libraries that are very common at >100 observations"
   ]
  },
  {
   "cell_type": "markdown",
   "metadata": {},
   "source": [
    "#### Distribution of mutations across the target gene: transposon effects\n",
    "\n",
    "All three deletion libraries are created starting with insertion of the TransDels transposon, which is an engineered form of the Mu transposon. The transposon duplicates a 5-nt target sequence, which in the case of -3 bp librarires is then *symmetrically* excised to leave behind the 1st and last nt of that sequence. By analysing the frequency of -3 bp insertions we can work backwards and directly observed the position of insertion of the Mu transposon."
   ]
  },
  {
   "cell_type": "code",
   "execution_count": 31,
   "metadata": {},
   "outputs": [],
   "source": [
    "def find_transposon_histogram(all_references, background, baseline='baseline', transposon='d3'):\n",
    "    \"\"\"\n",
    "    Find all mutation of a certain type and count where they are in DNA\n",
    "    :return: dict\n",
    "    \"\"\"\n",
    "    hist = defaultdict(int)\n",
    "    # using a dictionary here allows us to get the positions and counts from the randomly disorganized counts\n",
    "    # in the results dictionary\n",
    "    for prot_mutation in all_references[background][baseline]:\n",
    "        if prot_mutation is None:\n",
    "            continue\n",
    "        elif len(prot_mutation) <= 2:\n",
    "            for dna_mutation, count in all_references[background][baseline][prot_mutation]['dna'].items():\n",
    "                # here we are looking at dna mutations in the tuple format: (position, type, length)\n",
    "                # for deletions, the position in the first bp of tuple is the FIRST position in 1-count (ie. biology standard)\n",
    "                # where the nucleotide is deleted.\n",
    "                # Example: HGVS 74_76del -> (74, d, 3)\n",
    "                if classify_dna(dna_mutation) == transposon:\n",
    "                    hist[int(dna_mutation[0][0])] += count\n",
    "    \n",
    "    # now convert this in an organised list\n",
    "    gene_length = max(hist.keys()) + 1\n",
    "    all_pos = list(range(720))\n",
    "    d3_cnts = [hist[pos] for pos in all_pos] # 'hist' is a default dict: will return 0 for missing values\n",
    "    \n",
    "    \n",
    "    return {'Position': all_pos, 'd3_count': d3_cnts}\n",
    "\n",
    "histogram = find_transposon_histogram(results, 'eGFP', baseline='baseline', transposon='d3')\n",
    "# here, the keys are positions"
   ]
  },
  {
   "cell_type": "markdown",
   "metadata": {},
   "source": [
    "First, we convert the number of observations per positions to the aggregate"
   ]
  },
  {
   "cell_type": "code",
   "execution_count": 32,
   "metadata": {},
   "outputs": [
    {
     "data": {
      "text/plain": [
       "count     720.000000\n",
       "mean       55.656944\n",
       "std       148.584870\n",
       "min         0.000000\n",
       "25%         0.000000\n",
       "50%         5.000000\n",
       "75%        44.000000\n",
       "max      2105.000000\n",
       "Name: d3_count, dtype: float64"
      ]
     },
     "execution_count": 32,
     "metadata": {},
     "output_type": "execute_result"
    }
   ],
   "source": [
    "df_hist = pd.DataFrame.from_dict(histogram)\n",
    "df_hist['d3_count'].describe()"
   ]
  },
  {
   "cell_type": "code",
   "execution_count": 33,
   "metadata": {},
   "outputs": [
    {
     "data": {
      "image/png": "[encoded data removed]",
      "text/plain": [
       "<Figure size 432x288 with 1 Axes>"
      ]
     },
     "metadata": {
      "needs_background": "light"
     },
     "output_type": "display_data"
    }
   ],
   "source": [
    "plt.bar(df_hist['Position'], df_hist['d3_count'], width=1)\n",
    "plt.title('Distribution in eGFP, no adjustment for baseline')\n",
    "plt.show()\n",
    "\n",
    "# make this a prettier histogram with a split axis that lets you see all positions."
   ]
  },
  {
   "cell_type": "markdown",
   "metadata": {},
   "source": [
    "<font color=blue> \n",
    "**Make histogram prettier. Include baseline adjustment.**"
   ]
  },
  {
   "cell_type": "markdown",
   "metadata": {},
   "source": [
    "#### How many deletions per position are detected?"
   ]
  },
  {
   "cell_type": "code",
   "execution_count": 34,
   "metadata": {},
   "outputs": [],
   "source": [
    "def insertion_frequencies(results, background):\n",
    "\n",
    "    ins_freq = {deletion: defaultdict(int) for deletion in ['d3','d6','d9']}  # the starting data is aggregated in the 'baseline' fraction\n",
    "\n",
    "    for prot_mutation, data in results[background]['baseline'].items():  # this will go through all protein mutations\n",
    "        for dna_mutation, c in data['dna'].items():\n",
    "            # sometimes a mutations will have a sequencing error / silent substitution elsewhere, which biases the count\n",
    "            dna_mut_type = classify_dna(dna_mutation)\n",
    "            if dna_mut_type in ['d3', 'd6', 'd9']:\n",
    "                prot_mut_type = classify_protein(prot_mutation)\n",
    "                if prot_mut_type in translate_variant_type(dna_mut_type):\n",
    "                    ins_freq[dna_mut_type][int(dna_mutation[0][0])] += 1\n",
    "    \n",
    "    position = list(range(720))\n",
    "    d3_cnts = [ins_freq['d3'][pos] for pos in position]\n",
    "    d6_cnts = [ins_freq['d6'][pos] for pos in position]\n",
    "    d9_cnts = [ins_freq['d9'][pos] for pos in position]\n",
    "    \n",
    "    return {'Position': position, 'd3': d3_cnts, 'd6': d6_cnts, 'd9': d9_cnts}\n",
    "    \n",
    "ins_freq_e = insertion_frequencies(results, 'eGFP')\n",
    "ins_freq_8 = insertion_frequencies(results, 'GFP8')"
   ]
  },
  {
   "cell_type": "code",
   "execution_count": 35,
   "metadata": {},
   "outputs": [
    {
     "data": {
      "image/png": "[encoded data removed]",
      "text/plain": [
       "<Figure size 720x432 with 2 Axes>"
      ]
     },
     "metadata": {
      "needs_background": "light"
     },
     "output_type": "display_data"
    }
   ],
   "source": [
    "df_e = pd.DataFrame.from_dict(ins_freq_e)\n",
    "df_8 = pd.DataFrame.from_dict(ins_freq_8)\n",
    "\n",
    "fig, (ax1, ax2) = plt.subplots(2, 1, figsize=(10, 6))\n",
    "\n",
    "for df in [df_e, df_8]:\n",
    "    df['dels'] = df['d3'] + df['d6'] + df['d9']\n",
    "    \n",
    "ax1.bar(df_e['Position'], df_e['dels'], width=1)\n",
    "ax2.bar(df_8['Position'], df_8['dels'], width=1)\n",
    "\n",
    "ax1.set_title('eGFP deletions')\n",
    "ax2.set_title('GFP8 deletions')\n",
    "\n",
    "plt.tight_layout()\n",
    "plt.show()\n",
    "# df_ins_freq.to_csv('Fig3BC_all_ref.csv')"
   ]
  },
  {
   "cell_type": "code",
   "execution_count": 36,
   "metadata": {},
   "outputs": [
    {
     "name": "stdout",
     "output_type": "stream",
     "text": [
      "eGFP\n",
      "2    37.777778\n",
      "1    25.833333\n",
      "3    25.138889\n",
      "0    11.250000\n",
      "Name: dels, dtype: float64\n",
      "GFP8\n",
      "2    37.777778\n",
      "1    26.111111\n",
      "3    25.000000\n",
      "0    11.111111\n",
      "Name: dels, dtype: float64\n"
     ]
    }
   ],
   "source": [
    "dels_agg_e = df_e['dels'].value_counts()\n",
    "dels_agg_8 = df_8['dels'].value_counts()\n",
    "print('eGFP', dels_agg_e/720*100, 'GFP8',dels_agg_8/720*100, sep='\\n')"
   ]
  },
  {
   "cell_type": "markdown",
   "metadata": {},
   "source": [
    "We see that 25% of positions have all three positions and 11% are entirely unobserved. This must be adjusted by taking into account the baseline."
   ]
  },
  {
   "cell_type": "markdown",
   "metadata": {},
   "source": [
    "<font color=blue> \n",
    "**Build similar plot for substitutions**"
   ]
  },
  {
   "cell_type": "markdown",
   "metadata": {},
   "source": [
    "### Look for the most common variants in the High dataset"
   ]
  },
  {
   "cell_type": "code",
   "execution_count": 37,
   "metadata": {},
   "outputs": [],
   "source": [
    "# Make a Counter dictionary just with dna_hgvs mutations and counts\n",
    "# Here, associate just the HGVS DNA variant description and the count\n",
    "\n",
    "gfp_dna = {'eGFP': {}, 'GFP8': {}}\n",
    "for bg in results.keys():\n",
    "    for fraction in results[bg].keys():\n",
    "        gfp_dna[bg][fraction] = {}\n",
    "        for pm, pdata in results[bg][fraction].items():  # pm - protein mutation\n",
    "            for dna, reads in pdata['dna_hgvs'].items():\n",
    "                gfp_dna[bg][fraction][dna] = reads\n",
    "        del gfp_dna[bg][fraction][None]\n",
    "        del gfp_dna[bg][fraction][str(bg) + ':c.[]']\n",
    "\n",
    "# once we're done extraction all information, convert to Counter\n",
    "\n",
    "gfp_cnt = {'eGFP': {}, 'GFP8': {}}\n",
    "for bg in gfp_cnt.keys():\n",
    "    for fraction in results[bg].keys():\n",
    "        gfp_cnt[bg][fraction] = Counter(gfp_dna[bg][fraction])\n"
   ]
  },
  {
   "cell_type": "markdown",
   "metadata": {},
   "source": [
    "Working with a simpler `Counter` for DNA/read statistics is useful for converting to a dataframe, but the linkage between the DNA variant and the effect when translated to protein is lost. Make up for this by making a separate \"translation\" dictionary."
   ]
  },
  {
   "cell_type": "code",
   "execution_count": 38,
   "metadata": {},
   "outputs": [],
   "source": [
    "# Helper dictionary: DNA_hgvs to protein\n",
    "\n",
    "gfp_translate = {'eGFP': {}, 'GFP8': {}}\n",
    "\n",
    "for bg in results.keys():\n",
    "    for fraction in results[bg].keys():\n",
    "        gfp_dna[bg][fraction] = {}\n",
    "        for pm, pdata in results[bg][fraction].items():  # pm - protein mutation\n",
    "            for dna in pdata['dna_hgvs'].keys():\n",
    "                try:\n",
    "                    gfp_translate[bg][dna]\n",
    "                except KeyError:\n",
    "                    gfp_translate[bg][dna] = pm"
   ]
  },
  {
   "cell_type": "code",
   "execution_count": 39,
   "metadata": {},
   "outputs": [
    {
     "data": {
      "text/html": [
       "<div>\n",
       "<style scoped>\n",
       "    .dataframe tbody tr th:only-of-type {\n",
       "        vertical-align: middle;\n",
       "    }\n",
       "\n",
       "    .dataframe tbody tr th {\n",
       "        vertical-align: top;\n",
       "    }\n",
       "\n",
       "    .dataframe thead th {\n",
       "        text-align: right;\n",
       "    }\n",
       "</style>\n",
       "<table border=\"1\" class=\"dataframe\">\n",
       "  <thead>\n",
       "    <tr style=\"text-align: right;\">\n",
       "      <th></th>\n",
       "      <th>DNA_hgvs</th>\n",
       "      <th>Protein</th>\n",
       "      <th>Baseline</th>\n",
       "      <th>High</th>\n",
       "      <th>Medium</th>\n",
       "      <th>Low</th>\n",
       "    </tr>\n",
       "  </thead>\n",
       "  <tbody>\n",
       "    <tr>\n",
       "      <th>0</th>\n",
       "      <td>eGFP:c.674_676del</td>\n",
       "      <td>((226, 'd'),)</td>\n",
       "      <td>2105</td>\n",
       "      <td>9468</td>\n",
       "      <td>340</td>\n",
       "      <td>13</td>\n",
       "    </tr>\n",
       "    <tr>\n",
       "      <th>1</th>\n",
       "      <td>eGFP:c.458_463del</td>\n",
       "      <td>((153, 's', 'N'), (154, 'd'), (155, 'd'))</td>\n",
       "      <td>1247</td>\n",
       "      <td>4938</td>\n",
       "      <td>5409</td>\n",
       "      <td>9</td>\n",
       "    </tr>\n",
       "    <tr>\n",
       "      <th>2</th>\n",
       "      <td>eGFP:c.681_686del</td>\n",
       "      <td>((228, 'd'), (229, 'd'))</td>\n",
       "      <td>708</td>\n",
       "      <td>4120</td>\n",
       "      <td>275</td>\n",
       "      <td>0</td>\n",
       "    </tr>\n",
       "    <tr>\n",
       "      <th>3</th>\n",
       "      <td>eGFP:c.681_683del</td>\n",
       "      <td>((228, 'd'),)</td>\n",
       "      <td>988</td>\n",
       "      <td>3376</td>\n",
       "      <td>852</td>\n",
       "      <td>7</td>\n",
       "    </tr>\n",
       "    <tr>\n",
       "      <th>4</th>\n",
       "      <td>eGFP:c.678_686del</td>\n",
       "      <td>((227, 'd'), (228, 'd'), (229, 'd'))</td>\n",
       "      <td>276</td>\n",
       "      <td>3050</td>\n",
       "      <td>1</td>\n",
       "      <td>3</td>\n",
       "    </tr>\n",
       "    <tr>\n",
       "      <th>5</th>\n",
       "      <td>eGFP:c.692_700del</td>\n",
       "      <td>((232, 'd'), (233, 'd'), (234, 'd'))</td>\n",
       "      <td>169</td>\n",
       "      <td>1978</td>\n",
       "      <td>1</td>\n",
       "      <td>0</td>\n",
       "    </tr>\n",
       "    <tr>\n",
       "      <th>6</th>\n",
       "      <td>eGFP:c.678_683del</td>\n",
       "      <td>((227, 'd'), (228, 'd'))</td>\n",
       "      <td>178</td>\n",
       "      <td>1140</td>\n",
       "      <td>625</td>\n",
       "      <td>1</td>\n",
       "    </tr>\n",
       "    <tr>\n",
       "      <th>7</th>\n",
       "      <td>eGFP:c.462_467del</td>\n",
       "      <td>((155, 'd'), (156, 'd'))</td>\n",
       "      <td>171</td>\n",
       "      <td>1095</td>\n",
       "      <td>702</td>\n",
       "      <td>2</td>\n",
       "    </tr>\n",
       "    <tr>\n",
       "      <th>8</th>\n",
       "      <td>eGFP:c.574_576del</td>\n",
       "      <td>((192, 'd'),)</td>\n",
       "      <td>216</td>\n",
       "      <td>1014</td>\n",
       "      <td>173</td>\n",
       "      <td>0</td>\n",
       "    </tr>\n",
       "    <tr>\n",
       "      <th>9</th>\n",
       "      <td>eGFP:c.690_692del</td>\n",
       "      <td>((231, 'd'),)</td>\n",
       "      <td>184</td>\n",
       "      <td>986</td>\n",
       "      <td>73</td>\n",
       "      <td>0</td>\n",
       "    </tr>\n",
       "    <tr>\n",
       "      <th>10</th>\n",
       "      <td>eGFP:c.674_679del</td>\n",
       "      <td>((226, 'd'), (227, 'd'))</td>\n",
       "      <td>907</td>\n",
       "      <td>886</td>\n",
       "      <td>9863</td>\n",
       "      <td>32</td>\n",
       "    </tr>\n",
       "    <tr>\n",
       "      <th>11</th>\n",
       "      <td>eGFP:c.690_695del</td>\n",
       "      <td>((231, 'd'), (232, 'd'))</td>\n",
       "      <td>111</td>\n",
       "      <td>855</td>\n",
       "      <td>263</td>\n",
       "      <td>0</td>\n",
       "    </tr>\n",
       "    <tr>\n",
       "      <th>12</th>\n",
       "      <td>eGFP:c.687_695del</td>\n",
       "      <td>((230, 'd'), (231, 'd'), (232, 'd'))</td>\n",
       "      <td>86</td>\n",
       "      <td>821</td>\n",
       "      <td>0</td>\n",
       "      <td>0</td>\n",
       "    </tr>\n",
       "    <tr>\n",
       "      <th>13</th>\n",
       "      <td>eGFP:c.690_698del</td>\n",
       "      <td>((231, 'd'), (232, 'd'), (233, 'd'))</td>\n",
       "      <td>53</td>\n",
       "      <td>756</td>\n",
       "      <td>0</td>\n",
       "      <td>0</td>\n",
       "    </tr>\n",
       "    <tr>\n",
       "      <th>14</th>\n",
       "      <td>eGFP:c.680_685del</td>\n",
       "      <td>((227, 's', 'V'), (228, 'd'), (229, 'd'))</td>\n",
       "      <td>109</td>\n",
       "      <td>751</td>\n",
       "      <td>240</td>\n",
       "      <td>0</td>\n",
       "    </tr>\n",
       "  </tbody>\n",
       "</table>\n",
       "</div>"
      ],
      "text/plain": [
       "             DNA_hgvs                                    Protein  Baseline  \\\n",
       "0   eGFP:c.674_676del                              ((226, 'd'),)      2105   \n",
       "1   eGFP:c.458_463del  ((153, 's', 'N'), (154, 'd'), (155, 'd'))      1247   \n",
       "2   eGFP:c.681_686del                   ((228, 'd'), (229, 'd'))       708   \n",
       "3   eGFP:c.681_683del                              ((228, 'd'),)       988   \n",
       "4   eGFP:c.678_686del       ((227, 'd'), (228, 'd'), (229, 'd'))       276   \n",
       "5   eGFP:c.692_700del       ((232, 'd'), (233, 'd'), (234, 'd'))       169   \n",
       "6   eGFP:c.678_683del                   ((227, 'd'), (228, 'd'))       178   \n",
       "7   eGFP:c.462_467del                   ((155, 'd'), (156, 'd'))       171   \n",
       "8   eGFP:c.574_576del                              ((192, 'd'),)       216   \n",
       "9   eGFP:c.690_692del                              ((231, 'd'),)       184   \n",
       "10  eGFP:c.674_679del                   ((226, 'd'), (227, 'd'))       907   \n",
       "11  eGFP:c.690_695del                   ((231, 'd'), (232, 'd'))       111   \n",
       "12  eGFP:c.687_695del       ((230, 'd'), (231, 'd'), (232, 'd'))        86   \n",
       "13  eGFP:c.690_698del       ((231, 'd'), (232, 'd'), (233, 'd'))        53   \n",
       "14  eGFP:c.680_685del  ((227, 's', 'V'), (228, 'd'), (229, 'd'))       109   \n",
       "\n",
       "    High  Medium  Low  \n",
       "0   9468     340   13  \n",
       "1   4938    5409    9  \n",
       "2   4120     275    0  \n",
       "3   3376     852    7  \n",
       "4   3050       1    3  \n",
       "5   1978       1    0  \n",
       "6   1140     625    1  \n",
       "7   1095     702    2  \n",
       "8   1014     173    0  \n",
       "9    986      73    0  \n",
       "10   886    9863   32  \n",
       "11   855     263    0  \n",
       "12   821       0    0  \n",
       "13   756       0    0  \n",
       "14   751     240    0  "
      ]
     },
     "execution_count": 39,
     "metadata": {},
     "output_type": "execute_result"
    }
   ],
   "source": [
    "# Find the top 15 H mutations\n",
    "\n",
    "def top_variant_distribution(gfp_cnt, bg, fraction, filename):\n",
    "\n",
    "    top = gfp_cnt[bg][fraction].most_common(100)\n",
    "    with open(filename, 'w') as f:\n",
    "        csv_writer = csv.writer(f, delimiter=',')\n",
    "        csv_writer.writerow(['DNA_hgvs', 'Protein', 'Baseline', 'High', 'Medium', 'Low'])\n",
    "        for pair in top:\n",
    "            dna_hgvs = pair[0]\n",
    "            try:\n",
    "                protein = gfp_translate[bg][dna_hgvs]\n",
    "            except KeyError:\n",
    "                print(dna_hgvs)\n",
    "                raise\n",
    "            csv_writer.writerow([dna_hgvs, protein, gfp_cnt[bg]['baseline'][dna_hgvs], \n",
    "                                 gfp_cnt[bg]['H'][dna_hgvs], gfp_cnt[bg]['MM'][dna_hgvs], gfp_cnt[bg]['L'][dna_hgvs]] )\n",
    "\n",
    "top_variant_distribution(gfp_cnt, 'eGFP', 'H', 'Top_variants_eGFP_H.csv')\n",
    "top_variant_distribution(gfp_cnt, 'GFP8', 'H', 'Top_variants_GFP8_H.csv')\n",
    "\n",
    "df_top = pd.read_csv('Top_variants_GFP8_H.csv')\n",
    "df_top = pd.read_csv('Top_variants_eGFP_H.csv')\n",
    "df_top.head(15)"
   ]
  },
  {
   "cell_type": "code",
   "execution_count": 40,
   "metadata": {},
   "outputs": [
    {
     "data": {
      "text/plain": [
       "()"
      ]
     },
     "execution_count": 40,
     "metadata": {},
     "output_type": "execute_result"
    }
   ],
   "source": [
    "gfp_translate['eGFP']['eGFP:c.39A>T']"
   ]
  },
  {
   "cell_type": "code",
   "execution_count": null,
   "metadata": {},
   "outputs": [],
   "source": []
  }
 ],
 "metadata": {
  "kernelspec": {
   "display_name": "Python 3",
   "language": "python",
   "name": "python3"
  },
  "language_info": {
   "codemirror_mode": {
    "name": "ipython",
    "version": 3
   },
   "file_extension": ".py",
   "mimetype": "text/x-python",
   "name": "python",
   "nbconvert_exporter": "python",
   "pygments_lexer": "ipython3",
   "version": "3.7.3"
  }
 },
 "nbformat": 4,
 "nbformat_minor": 2
}

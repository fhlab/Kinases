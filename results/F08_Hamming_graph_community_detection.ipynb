{
 "cells": [
  {
   "cell_type": "code",
   "execution_count": 1,
   "metadata": {},
   "outputs": [],
   "source": [
    "# Perform the initialization and imports\n",
    "import sys\n",
    "import pickle\n",
    "import re\n",
    "import os\n",
    "import csv\n",
    "import argparse\n",
    "import math\n",
    "import random\n",
    "\n",
    "from string import ascii_lowercase\n",
    "from collections import Counter, defaultdict, OrderedDict\n",
    "from operator import itemgetter\n",
    "\n",
    "import pandas as pd\n",
    "import numpy as np\n",
    "import matplotlib.pyplot as plt\n",
    "import seaborn as sns\n",
    "import networkx as nx\n",
    "\n",
    "from scipy.sparse import issparse\n",
    "import matplotlib.ticker as plticker\n",
    "import numpy.linalg as la\n",
    "import scipy.cluster.vq as vq\n",
    "from matplotlib_venn import venn2\n",
    "\n",
    "from networkx.algorithms import community\n",
    "import community as community_louvain\n",
    "\n",
    "from Bio import SeqIO, AlignIO\n",
    "from Bio.SeqRecord import SeqRecord\n",
    "from Bio.Alphabet import IUPAC\n",
    "from Bio.Seq import Seq\n",
    "from Bio.Emboss.Applications import NeedleallCommandline"
   ]
  },
  {
   "cell_type": "code",
   "execution_count": 2,
   "metadata": {},
   "outputs": [],
   "source": [
    "# Retrieve the specific functions from ind and proteins.py\n",
    "indels_path=\"/home/maya/InDelScanner\"  # /PATH/TO/InDelScanner\n",
    "if indels_path not in sys.path:\n",
    "    sys.path.append(indels_path)\n",
    "\n",
    "from ipynb.fs.defs.F01_Library_diversity import convert_variant_to_dict, single_fraction_enrichment\n",
    "\n",
    "os.chdir(\"/mnt/c/Users/Maya/Documents/03_Kinases/code_check\")\n",
    "\n",
    "# Set general restrictions stemming from SpliMLib library design\n",
    "aa_2 = ['A', 'Δ']\n",
    "aa_12 = ['A','G','P','Y','D','K','M','V','I','L','F','W']\n",
    "aa_13 = aa_12 +  ['Δ']\n",
    "splimlib = {'6': aa_12, '9': aa_12, '11': aa_12, '13': aa_12, '7a': aa_13, '8a': aa_2}"
   ]
  },
  {
   "cell_type": "markdown",
   "metadata": {},
   "source": [
    "## Sequence similarity network analysis with NetworkX"
   ]
  },
  {
   "cell_type": "markdown",
   "metadata": {},
   "source": [
    "This section examines the largest connected subgraph in the Hamming distance graph, with 31,259 nodes and 193K edges. This is by far the largest connected subgraph in the network, as the next largest contains only 5 nodes. The graph was generated in another file and annotated with node degree, betweenness and centrality scores.\n",
    "\n",
    "https://programminghistorian.org/en/lessons/exploring-and-analyzing-network-data-with-python"
   ]
  },
  {
   "cell_type": "code",
   "execution_count": 3,
   "metadata": {},
   "outputs": [],
   "source": [
    "G = nx.read_graphml('connected_annotated.graphml')"
   ]
  },
  {
   "cell_type": "code",
   "execution_count": 4,
   "metadata": {},
   "outputs": [
    {
     "data": {
      "text/plain": [
       "28497"
      ]
     },
     "execution_count": 4,
     "metadata": {},
     "output_type": "execute_result"
    }
   ],
   "source": [
    "G.number_of_nodes()"
   ]
  },
  {
   "cell_type": "code",
   "execution_count": 5,
   "metadata": {},
   "outputs": [
    {
     "data": {
      "text/plain": [
       "5.992209706284872"
      ]
     },
     "execution_count": 5,
     "metadata": {},
     "output_type": "execute_result"
    }
   ],
   "source": [
    "# AVERAGE NODE DEGREE\n",
    "G.size()/G.order()"
   ]
  },
  {
   "cell_type": "markdown",
   "metadata": {},
   "source": [
    "### Is the network of active variants scale free?"
   ]
  },
  {
   "cell_type": "code",
   "execution_count": 6,
   "metadata": {},
   "outputs": [
    {
     "data": {
      "image/png": "[encoded data removed]",
      "text/plain": [
       "<Figure size 432x288 with 1 Axes>"
      ]
     },
     "metadata": {
      "needs_background": "light"
     },
     "output_type": "display_data"
    }
   ],
   "source": [
    "degree_sequence = sorted([d for n, d in G.degree()], reverse=True)  # degree sequence\n",
    "# print \"Degree sequence\", degree_sequence\n",
    "degreeCount = Counter(degree_sequence)\n",
    "deg, cnt = zip(*degreeCount.items())\n",
    "\n",
    "fig, ax = plt.subplots()\n",
    "plt.bar(deg, cnt, width=0.80, color='b')\n",
    "\n",
    "plt.title(\"Largest connected subgraph\")\n",
    "plt.ylabel(\"Count\")\n",
    "plt.xlabel(\"Degree\")\n",
    "plt.show()"
   ]
  },
  {
   "cell_type": "markdown",
   "metadata": {},
   "source": [
    "Interestingly, this network does not appear to be scale free. To be clearer, let's plot the number of nodes with a given degree against log(degree). If the network is scale free, that should give a straight line."
   ]
  },
  {
   "cell_type": "code",
   "execution_count": 7,
   "metadata": {},
   "outputs": [
    {
     "data": {
      "image/png": "[encoded data removed]",
      "text/plain": [
       "<Figure size 432x288 with 1 Axes>"
      ]
     },
     "metadata": {
      "needs_background": "light"
     },
     "output_type": "display_data"
    }
   ],
   "source": [
    "fig, ax = plt.subplots()\n",
    "plt.bar(deg, cnt, width=0.80, color='b')\n",
    "ax.set_xscale('log')\n",
    "\n",
    "plt.title(\"Largest connected subgraph\")\n",
    "plt.ylabel(\"Count\")\n",
    "plt.xlabel(\"Log Degree\")\n",
    "plt.show()"
   ]
  },
  {
   "cell_type": "code",
   "execution_count": 8,
   "metadata": {},
   "outputs": [
    {
     "name": "stdout",
     "output_type": "stream",
     "text": [
      "Network density: 0.0004205649709632841\n",
      "Triadic closure: 0.2201184072126221\n"
     ]
    }
   ],
   "source": [
    "density = nx.density(G)\n",
    "print(\"Network density:\", density)\n",
    "\n",
    "triadic_closure = nx.transitivity(G)\n",
    "print(\"Triadic closure:\", triadic_closure)"
   ]
  },
  {
   "cell_type": "markdown",
   "metadata": {},
   "source": [
    "This network is quite sparsely connected, but the closure between nodes is relatively high. It's not scale free. The diameter of the network is 16, so any pair of nodes is connected by 16 or fewer edges (longest of the shortest paths).\n",
    "\n",
    "### Which are the important nodes in this network?"
   ]
  },
  {
   "cell_type": "code",
   "execution_count": 9,
   "metadata": {},
   "outputs": [],
   "source": [
    "n = 316 # top 1% of nodes"
   ]
  },
  {
   "cell_type": "code",
   "execution_count": 10,
   "metadata": {},
   "outputs": [],
   "source": [
    "close = nx.get_node_attributes(G, 'closeness')\n",
    "deg = nx.get_node_attributes(G, 'deg')\n",
    "betw = nx.get_node_attributes(G, 'betweenness')"
   ]
  },
  {
   "cell_type": "code",
   "execution_count": 11,
   "metadata": {},
   "outputs": [],
   "source": [
    "with open('H_eigenvector_centrality.pickle', 'rb') as f:\n",
    "    eig_cen = pickle.load(f)\n",
    "\n",
    "nx.set_node_attributes(G, eig_cen, 'eigenvector')"
   ]
  },
  {
   "cell_type": "code",
   "execution_count": 12,
   "metadata": {},
   "outputs": [],
   "source": [
    "top_degree = [k[0] for k in sorted(deg.items(), key=itemgetter(1), reverse=True)[:n]]\n",
    "top_close = [k[0] for k in sorted(close.items(), key=itemgetter(1), reverse=True)[:n]]\n",
    "top_betw = [k[0] for k in sorted(betw.items(), key=itemgetter(1), reverse=True)[:n]]"
   ]
  },
  {
   "cell_type": "code",
   "execution_count": 13,
   "metadata": {},
   "outputs": [
    {
     "data": {
      "image/png": "[encoded data removed]",
      "text/plain": [
       "<Figure size 576x288 with 2 Axes>"
      ]
     },
     "metadata": {
      "needs_background": "light"
     },
     "output_type": "display_data"
    }
   ],
   "source": [
    "fig, axes = plt.subplots(1, 2, figsize=(8,4))\n",
    "\n",
    "# betweenness\n",
    "ax = axes[0]\n",
    "ax.hist(betw.values())\n",
    "ax.set_xlabel('Node betweenness')\n",
    "\n",
    "# closeness\n",
    "ax = axes[1]\n",
    "ax.hist(close.values())\n",
    "ax.set_xlabel('Node closeness')\n",
    "\n",
    "plt.show()"
   ]
  },
  {
   "cell_type": "markdown",
   "metadata": {},
   "source": [
    "The above graphs indicate that node betweenness is a rather useless measure (betwenness ranges between 0 and 1, yet here all nodes have betweenness < 0.0015). However, there is a more useful distribution in node closeness and degree centrality, so let's examine those in more detail."
   ]
  },
  {
   "cell_type": "code",
   "execution_count": 14,
   "metadata": {},
   "outputs": [
    {
     "data": {
      "image/png": "[encoded data removed]",
      "text/plain": [
       "<Figure size 432x288 with 1 Axes>"
      ]
     },
     "metadata": {},
     "output_type": "display_data"
    }
   ],
   "source": [
    "venn2([set(top_degree), set(top_close)], set_labels = ('Degree', 'Closeness'))\n",
    "plt.show()"
   ]
  },
  {
   "cell_type": "markdown",
   "metadata": {},
   "source": [
    "### Quick and dirty way for finding modules within the network"
   ]
  },
  {
   "cell_type": "code",
   "execution_count": null,
   "metadata": {},
   "outputs": [],
   "source": [
    "communities = community.greedy_modularity_communities(G)"
   ]
  },
  {
   "cell_type": "code",
   "execution_count": null,
   "metadata": {},
   "outputs": [],
   "source": [
    "len(communities)"
   ]
  },
  {
   "cell_type": "code",
   "execution_count": null,
   "metadata": {},
   "outputs": [],
   "source": [
    "for i in communities[:10]:\n",
    "    print(len(i))"
   ]
  },
  {
   "cell_type": "code",
   "execution_count": null,
   "metadata": {},
   "outputs": [],
   "source": [
    "modularity_dict = {} # Create a blank dictionary\n",
    "for i,c in enumerate(communities): # Loop through the list of communities, keeping track of the number for the community\n",
    "    for name in c: # Loop through each person in a community\n",
    "        modularity_dict[name] = i # Create an entry in the dictionary for the person, where the value is which group they belong to.\n",
    "\n",
    "# Now you can add modularity information like we did the other metrics\n",
    "nx.set_node_attributes(G, modularity_dict, 'modularity')"
   ]
  },
  {
   "cell_type": "markdown",
   "metadata": {},
   "source": [
    "There are five large subpopulations in this graph, so let's have a look at their core nodes and the composition of each of these."
   ]
  },
  {
   "cell_type": "code",
   "execution_count": null,
   "metadata": {},
   "outputs": [],
   "source": [
    "cluster_dfs = {i: df_pos.loc[communities[i]] for i in range(5)}\n",
    "connected_df = df_pos.loc[list(G.nodes())]"
   ]
  },
  {
   "cell_type": "code",
   "execution_count": null,
   "metadata": {},
   "outputs": [],
   "source": [
    "def plot_clusters(full_df, dfs, ax_lims, log_function, fname='', fsize=(12,6)):\n",
    "    \n",
    "    cbar_ticks = [ax_lims[0], ax_lims[0]/2, 0, ax_lims[1]/2, ax_lims[1]]\n",
    "    \n",
    "    fig, axes = plt.subplots(2, len(dfs) +1,  figsize=fsize, gridspec_kw={'wspace':0.3, 'hspace':0.3})\n",
    "\n",
    "    cnts = single_fraction_enrichment(full_df, 'high', 1, proportion=False)\n",
    "    df_all = pd.DataFrame.from_dict(cnts).reindex(aa_13)\n",
    "    log_df = (df_all/(df_all.sum()/df_all.astype(bool).sum())).apply(log_function)   \n",
    "    sns.heatmap(log_df, vmin=ax_lims[0], vmax=ax_lims[1], linewidths=0.2, ax=axes[0][0], cmap=\"RdBu_r\", cbar=False)\n",
    "    \n",
    "    axes[1][0].axis('off')\n",
    "    \n",
    "    for i in range(len(dfs)):\n",
    "        \n",
    "        cnts = single_fraction_enrichment(dfs[i], 'high', 1, proportion=False)\n",
    "        df_restrict = pd.DataFrame.from_dict(cnts).reindex(aa_13)\n",
    "\n",
    "        # first plot the top\n",
    "        ax = axes[0][i+1]\n",
    "        \n",
    "        log_df = (df_restrict/(df_restrict.sum()/df_restrict.astype(bool).sum())).apply(log_function)   \n",
    "        sns.heatmap(log_df, vmin=ax_lims[0], vmax=ax_lims[1], linewidths=0.2, ax=ax, cmap=\"RdBu_r\", cbar=False)\n",
    "\n",
    "        # now plot the change relative to overall preference\n",
    "        ax = axes[1][i+1]\n",
    "        top_df = df_restrict/df_restrict.sum()    \n",
    "        b_df = df_all/df_all.sum()\n",
    "        log_df = (top_df/b_df).apply(log_function)           \n",
    "    \n",
    "        sns.heatmap(log_df, vmin=ax_lims[0], vmax=ax_lims[1], linewidths=0.2, ax=ax, cmap=\"RdBu_r\", cbar=False)\n",
    "        \n",
    "    plt.tight_layout()\n",
    "    if fname:\n",
    "        plt.savefig(fname, dpi=300)\n",
    "    plt.show()"
   ]
  },
  {
   "cell_type": "code",
   "execution_count": null,
   "metadata": {},
   "outputs": [],
   "source": [
    "plot_clusters(connected_df, cluster_dfs, (-2, 2),  np.log2, fname='', fsize=(18,6))"
   ]
  },
  {
   "cell_type": "markdown",
   "metadata": {},
   "source": [
    "### Better way of partitioning the graph\n",
    "\n",
    "Seeing that the clusters are sensible, now check more propertly if the network can partition in a sensible way: range -0.5 to 1."
   ]
  },
  {
   "cell_type": "code",
   "execution_count": null,
   "metadata": {},
   "outputs": [],
   "source": [
    "best_communities = community_louvain.best_partition(G, randomize = True)\n",
    "global_modularity = community_louvain.modularity(best_communities, G)\n",
    "print(global_modularity)"
   ]
  },
  {
   "cell_type": "code",
   "execution_count": null,
   "metadata": {},
   "outputs": [],
   "source": [
    "for i in range(80):\n",
    "    new_communities = community_louvain.best_partition(G, randomize = True)\n",
    "    new_modularity = community_louvain.modularity(new_communities, G)\n",
    "    print(new_modularity)\n",
    "    if new_modularity > global_modularity:\n",
    "        best_communities = new_communities\n",
    "        global_modularity = new_modularity\n",
    "    \n",
    "print(global_modularity)"
   ]
  },
  {
   "cell_type": "code",
   "execution_count": null,
   "metadata": {},
   "outputs": [],
   "source": [
    "print(max(best_communities.values()))"
   ]
  },
  {
   "cell_type": "code",
   "execution_count": null,
   "metadata": {},
   "outputs": [],
   "source": [
    "print(global_modularity)"
   ]
  },
  {
   "cell_type": "code",
   "execution_count": null,
   "metadata": {},
   "outputs": [],
   "source": [
    "# Now you can add modularity information like we did the other metrics\n",
    "nx.set_node_attributes(G, best_communities, 'louvain')"
   ]
  },
  {
   "cell_type": "code",
   "execution_count": null,
   "metadata": {},
   "outputs": [],
   "source": [
    "nx.write_graphml(G, \"hamming_partitioned.graphml\")  "
   ]
  },
  {
   "cell_type": "code",
   "execution_count": null,
   "metadata": {},
   "outputs": [],
   "source": [
    "subgraph_dict = {i: [nd for nd in G.nodes() if G.nodes[nd]['modularity'] == i] for i in range(11)}\n",
    "\n",
    "cluster_dfs = {i: df_pos.loc[subgraph_dict[i]] for i in range(11)}\n",
    "connected_df = df_pos.loc[list(G.nodes())]"
   ]
  },
  {
   "cell_type": "code",
   "execution_count": null,
   "metadata": {},
   "outputs": [],
   "source": [
    "plot_clusters(connected_df, cluster_dfs, (-2, 2),  np.log2, fname='', fsize=(18,4))"
   ]
  },
  {
   "cell_type": "markdown",
   "metadata": {},
   "source": [
    "Therefore, the Louvain partitioning algorithm splits the graph into 12 separate communities. The Louvain algorithm guarantees that each node is well connected to its own community, but it does have an issue in that some communities might be poorly connected to itself (that is, missing a bridge within the community). This mis-assignment can happen if the bridge within a community is also well connected outside of it, so it gets reassigned to the outside community. However, that leaves the original community 'divided', yet the Louvain method cannot split it into two proper communities.\n",
    "\n",
    "### Leiden method."
   ]
  },
  {
   "cell_type": "code",
   "execution_count": null,
   "metadata": {},
   "outputs": [],
   "source": [
    "import leidenalg\n",
    "import igraph as ig"
   ]
  },
  {
   "cell_type": "code",
   "execution_count": null,
   "metadata": {},
   "outputs": [],
   "source": [
    "H = ig.read(\"hamming_partitioned.graphml\")"
   ]
  },
  {
   "cell_type": "code",
   "execution_count": null,
   "metadata": {},
   "outputs": [],
   "source": [
    "top_leiden = leidenalg.find_partition(H, leidenalg.ModularityVertexPartition, n_iterations=-1)\n",
    "top_modularity = H.modularity(leiden)"
   ]
  },
  {
   "cell_type": "code",
   "execution_count": null,
   "metadata": {},
   "outputs": [],
   "source": [
    "print('Starting modularity: ', top_modularity)\n",
    "\n",
    "for i in range(99):\n",
    "    new_communities = leidenalg.find_partition(H, leidenalg.ModularityVertexPartition, n_iterations=-1)\n",
    "    new_modularity = H.modularity(new_communities)\n",
    "    if new_modularity > top_modularity:\n",
    "        top_leiden = new_communities\n",
    "        top_modularity = new_modularity\n",
    "        print(i, top_modularity)\n"
   ]
  },
  {
   "cell_type": "code",
   "execution_count": null,
   "metadata": {},
   "outputs": [],
   "source": [
    "top_modularity"
   ]
  },
  {
   "cell_type": "code",
   "execution_count": null,
   "metadata": {},
   "outputs": [],
   "source": [
    "for i in range(19):\n",
    "    print(len(leiden[i]))"
   ]
  },
  {
   "cell_type": "markdown",
   "metadata": {},
   "source": [
    "9 of the 19 clusters have substantial membership. Assign the leiden community membership to the graph and then export it for plotting in Gephi."
   ]
  },
  {
   "cell_type": "code",
   "execution_count": null,
   "metadata": {},
   "outputs": [],
   "source": [
    "leiden_memb = {}\n",
    "\n",
    "for com in range(19):\n",
    "    for v in leiden[com]:\n",
    "        leiden_memb[v] = com\n",
    "\n",
    "leiden_sorted = OrderedDict(sorted(leiden_memb.items()))\n",
    "H.vs['leiden'] = list(leiden_sorted.values())"
   ]
  },
  {
   "cell_type": "code",
   "execution_count": null,
   "metadata": {},
   "outputs": [],
   "source": [
    "H.write_graphml('Hamming_with_Louvain_and_Leiden_revised.graphml')"
   ]
  },
  {
   "cell_type": "code",
   "execution_count": null,
   "metadata": {},
   "outputs": [],
   "source": [
    "len(H.vs)"
   ]
  },
  {
   "cell_type": "code",
   "execution_count": null,
   "metadata": {},
   "outputs": [],
   "source": [
    "H.vs[0]"
   ]
  },
  {
   "cell_type": "code",
   "execution_count": null,
   "metadata": {},
   "outputs": [],
   "source": [
    "subgraph_dict = {i: [H.vs[nd]['id'] for nd in range(len(H.vs)) if H.vs[nd]['leiden'] == i] for i in range(5)}\n",
    "\n",
    "cluster_dfs = {i: df_pos.loc[subgraph_dict[i]] for i in range(5)}\n",
    "connected_df = df_pos.loc[list(G.nodes())]"
   ]
  },
  {
   "cell_type": "code",
   "execution_count": null,
   "metadata": {},
   "outputs": [],
   "source": [
    "plot_clusters(connected_df, cluster_dfs, (-3, 3),  np.log2, fname='', fsize=(16,8))"
   ]
  },
  {
   "cell_type": "markdown",
   "metadata": {},
   "source": [
    "- 0: 7aL/8aA/9IF/11L\n",
    "- 1: 8aA/11L\n",
    "- 2: 8aA/9L\n",
    "- 3: 7aL/8aΔ\n",
    "- 4: 8aΔ/11I"
   ]
  },
  {
   "cell_type": "markdown",
   "metadata": {},
   "source": [
    "- 0: 8aΔ/11L\n",
    "- 1: 8aA/9L\n",
    "- 2: 8aΔ/11L\n",
    "- 3: 6 hydrophobic/7aL/8aΔ\n",
    "- 4: 9FM/11L"
   ]
  },
  {
   "cell_type": "code",
   "execution_count": null,
   "metadata": {},
   "outputs": [],
   "source": [
    "subgraph_dict = {i: [H.vs[nd]['id'] for nd in range(len(H.vs)) if H.vs[nd]['leiden'] == i] for i in range(5,9)}\n",
    "\n",
    "cluster_dfs = {i-5: df_pos.loc[subgraph_dict[i]] for i in range(5,9)}\n",
    "connected_df = df_pos.loc[list(G.nodes())]\n",
    "\n",
    "plot_clusters(connected_df, cluster_dfs, (-3, 3),  np.log2, fname='Leiden_clusters_5-10.svg', fsize=(18,8))"
   ]
  },
  {
   "cell_type": "markdown",
   "metadata": {},
   "source": [
    "- 5: 8aΔ/9L/11notIL\n",
    "- 6: 6L/7aI/8aA\n",
    "- 7: 6L/7aI/8aΔ\n",
    "- 8: 9M/11I"
   ]
  },
  {
   "cell_type": "markdown",
   "metadata": {},
   "source": [
    "- 5: 6P/8aΔ/9L/11F - still the same\n",
    "- 6: 8aA/9I\n",
    "- 7: 7aL/8aA\n",
    "- 8: 6L/7aI/8aΔ\n",
    "- 9: 6L/7aI/8aA/9W\n",
    "- 10: 9M/11I"
   ]
  },
  {
   "cell_type": "markdown",
   "metadata": {},
   "source": [
    "### Finds cluster location for ten most abundant high gate variants"
   ]
  },
  {
   "cell_type": "code",
   "execution_count": null,
   "metadata": {},
   "outputs": [],
   "source": [
    "H = ig.read('Hamming_with_Leiden.graphml')"
   ]
  },
  {
   "cell_type": "code",
   "execution_count": null,
   "metadata": {},
   "outputs": [],
   "source": [
    "toplib = ['6L/7aI/8aA/9L/11F/13M',\n",
    " '6F/7aP/9W/11L/13M',\n",
    " '6L/7aF/9L/11I/13I',\n",
    " '6A/7aI/8aA/9L/11L/13I',\n",
    " '6W/7aI/9F/11L/13V',\n",
    " '6A/7aP/8aA/9L/11V/13W',\n",
    " '6L/7aI/8aA/9M/11W/13W',\n",
    " '6V/7aP/8aA/9F/11F/13M',\n",
    " '6A/7aK/9L/11L/13W',\n",
    " '6A/7aI/8aA/9L/11V/13M',\n",
    " '6P/9I/11L/13P',\n",
    " '6P/9A/11A/13P',\n",
    " '6L/7aL/9L/11L/13I']"
   ]
  },
  {
   "cell_type": "code",
   "execution_count": null,
   "metadata": {},
   "outputs": [],
   "source": [
    "i = 0\n",
    "for v in toplib:\n",
    "    i += 1\n",
    "    try:\n",
    "        print(i, v, H.vs.find(id=v)['leiden'])\n",
    "    except ValueError:\n",
    "        print(v)\n",
    "        pass"
   ]
  },
  {
   "cell_type": "code",
   "execution_count": null,
   "metadata": {},
   "outputs": [],
   "source": [
    "H.vs[5]"
   ]
  },
  {
   "cell_type": "markdown",
   "metadata": {},
   "source": [
    "### Generate fasta files for WebLogo"
   ]
  },
  {
   "cell_type": "code",
   "execution_count": null,
   "metadata": {},
   "outputs": [],
   "source": [
    "subgraph_dict = {i: [H.vs[nd]['id'] for nd in range(len(H.vs)) if H.vs[nd]['leiden'] == i] for i in range(9)}"
   ]
  },
  {
   "cell_type": "code",
   "execution_count": null,
   "metadata": {},
   "outputs": [],
   "source": [
    "def make_weblogo_fasta(subgraph_dict):\n",
    "    \"\"\"\n",
    "    Input: the dictionary containing a Counter for each fraction\n",
    "    Output: dictionary with data aggregated by position, format: point_distrubution[pos][aa] = int\n",
    "    \"\"\"\n",
    "    valid_aa = {'A', 'D', 'F', 'G', 'I', 'K', 'L', 'M', 'P', 'V', 'W', 'Y', 'Δ'}\n",
    "    valid_positions = ['6', '7a', '8a', '9', '11', '13']\n",
    "    wt = {'6': 'P', '7a': 'Δ', '8a': 'Δ', '9': 'I', '11': 'L', '13': 'P'}\n",
    "    \n",
    "\n",
    "    for cl, variants in subgraph_dict.items():\n",
    "        with open('Cluster_{0}.fa'.format(str(cl)), 'w') as f:\n",
    "            lines = []\n",
    "            for v in variants:\n",
    "                m_by_pos = convert_variant_to_dict(v)\n",
    "                var_list = []\n",
    "                for p in valid_positions:\n",
    "                    aa = m_by_pos[p]\n",
    "                    if aa == 'Δ':\n",
    "                        var_list.append('S')\n",
    "                    else:\n",
    "                        var_list.append(aa)\n",
    "                assert len(var_list) == 6\n",
    "                lines.append('>' + str(v) + '\\n')\n",
    "                lines.append(''.join(var_list) + '\\n')\n",
    "            f.writelines(lines)\n",
    "                "
   ]
  },
  {
   "cell_type": "code",
   "execution_count": null,
   "metadata": {},
   "outputs": [],
   "source": [
    "def make_weblogo_fasta_with_delta(subgraph_dict):\n",
    "    \"\"\"\n",
    "    Input: the dictionary containing a Counter for each fraction\n",
    "    Output: dictionary with data aggregated by position, format: point_distrubution[pos][aa] = int\n",
    "    \"\"\"\n",
    "    valid_aa = {'A', 'D', 'F', 'G', 'I', 'K', 'L', 'M', 'P', 'V', 'W', 'Y', 'Δ'}\n",
    "    valid_positions = ['6', '7a', '8a', '9', '11', '13']\n",
    "    wt = {'6': 'P', '7a': 'Δ', '8a': 'Δ', '9': 'I', '11': 'L', '13': 'P'}\n",
    "    \n",
    "\n",
    "    for cl, variants in subgraph_dict.items():\n",
    "        with open('Cluster_delta_{0}.fa'.format(str(cl)), 'w') as f:\n",
    "            lines = []\n",
    "            for v in variants:\n",
    "                m_by_pos = convert_variant_to_dict(v)\n",
    "                var_list = []\n",
    "                for p in valid_positions:\n",
    "                    var_list.append(m_by_pos[p])\n",
    "                assert len(var_list) == 6\n",
    "                lines.append('>' + str(v) + '\\n')\n",
    "                lines.append(''.join(var_list) + '\\n')\n",
    "            f.writelines(lines)"
   ]
  },
  {
   "cell_type": "code",
   "execution_count": null,
   "metadata": {},
   "outputs": [],
   "source": [
    "make_weblogo_fasta_with_delta(subgraph_dict)"
   ]
  }
 ],
 "metadata": {
  "kernelspec": {
   "display_name": "Python 3",
   "language": "python",
   "name": "python3"
  },
  "language_info": {
   "codemirror_mode": {
    "name": "ipython",
    "version": 3
   },
   "file_extension": ".py",
   "mimetype": "text/x-python",
   "name": "python",
   "nbconvert_exporter": "python",
   "pygments_lexer": "ipython3",
   "version": "3.7.3"
  }
 },
 "nbformat": 4,
 "nbformat_minor": 2
}

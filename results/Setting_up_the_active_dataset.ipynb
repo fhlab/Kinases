{
 "cells": [
  {
   "cell_type": "markdown",
   "metadata": {},
   "source": [
    "### Protein Composition Statistics\n",
    "\n",
    "The analysis functions are located in `./indels/proteins.py`, which draws general functions from `./indels/ind.py`"
   ]
  },
  {
   "cell_type": "code",
   "execution_count": null,
   "metadata": {},
   "outputs": [],
   "source": [
    "# Perform the initialization and imports\n",
    "import sys\n",
    "import pickle\n",
    "import re\n",
    "import os\n",
    "import csv\n",
    "import argparse\n",
    "import math\n",
    "import pprint\n",
    "\n",
    "from string import ascii_lowercase\n",
    "from collections import Counter, defaultdict, OrderedDict\n",
    "\n",
    "import pandas as pd\n",
    "import numpy as np\n",
    "import matplotlib.pyplot as plt\n",
    "import seaborn as sns\n",
    "\n",
    "from Bio import SeqIO, AlignIO\n",
    "from Bio.SeqRecord import SeqRecord\n",
    "from Bio.Alphabet import IUPAC\n",
    "from Bio.Seq import Seq\n",
    "from Bio.Emboss.Applications import NeedleallCommandline\n",
    "\n",
    "# Demand Python 3.\n",
    "if sys.version_info[0] < 3:\n",
    "    print(\"Python 3 is required, but you are using Python %i.%i.%i\") % (\n",
    "        sys.version_info[0], sys.version_info[1], sys.version_info[2])\n",
    "    sys.exit(1)"
   ]
  },
  {
   "cell_type": "code",
   "execution_count": null,
   "metadata": {},
   "outputs": [],
   "source": [
    "# Retrieve the specific functions from ind and proteins.py\n",
    "indels_path=\"/home/mp/InDelScanner\"  # /PATH/TO/InDelScanner\n",
    "if indels_path not in sys.path:\n",
    "    sys.path.append(indels_path)"
   ]
  },
  {
   "cell_type": "code",
   "execution_count": null,
   "metadata": {},
   "outputs": [],
   "source": [
    "from ipynb.fs.defs.Library_diversity import convert_variant_to_dict"
   ]
  },
  {
   "cell_type": "code",
   "execution_count": null,
   "metadata": {},
   "outputs": [],
   "source": [
    "os.chdir(\"/mnt/c/Users/Maya/Documents/03_Kinases/\")\n",
    "\n",
    "with open('mek.pickle', 'rb') as f:\n",
    "    mek = pickle.load(f)\n",
    "\n",
    "df_all = pd.DataFrame.from_dict(mek).fillna(0).sort_values(by=['high', 'med', 'low-t'], ascending=False)"
   ]
  },
  {
   "cell_type": "markdown",
   "metadata": {},
   "source": [
    "### How many variants are there?"
   ]
  },
  {
   "cell_type": "code",
   "execution_count": null,
   "metadata": {},
   "outputs": [],
   "source": [
    "aa_2 = ['A', 'Δ']\n",
    "aa_12 = ['A','G','P','Y','D','K','M','V','I','L','F','W']\n",
    "aa_13 = aa_12 +  ['Δ']\n",
    "splimlib = {'6': aa_12, '9': aa_12, '11': aa_12, '13': aa_12, '7a': aa_13, '8a': aa_2}\n",
    "\n",
    "def is_variant_in_expected_set(m_by_pos, splimlib):\n",
    "    for k, a in m_by_pos.items():\n",
    "        if k not in splimlib.keys():\n",
    "            return False\n",
    "        elif a not in splimlib[k]:\n",
    "            return False\n",
    "        \n",
    "    return True"
   ]
  },
  {
   "cell_type": "code",
   "execution_count": null,
   "metadata": {},
   "outputs": [],
   "source": [
    "def get_vars_by_count(gate, cutoff, correct_only):\n",
    "    vars_by_count = OrderedDict((i, 0) for i in range(1, cutoff +1))\n",
    "\n",
    "    for mutation_string, c in mek[gate].items():\n",
    "        if correct_only:\n",
    "            # m_by_pos[position] = AA\n",
    "            m_by_pos = convert_variant_to_dict(mutation_string)\n",
    "            if not is_variant_in_expected_set(m_by_pos, splimlib):\n",
    "                continue\n",
    "        if c >= cutoff:\n",
    "            vars_by_count[cutoff] +=1\n",
    "        else:\n",
    "            vars_by_count[c] +=1\n",
    "    \n",
    "    return vars_by_count\n",
    "\n",
    "def poisson_plot_for_choosing_cutoff(gate, cutoff, plot_title, colours = ['b', 'c'], filename=\"\"):\n",
    "    \n",
    "    everything = get_vars_by_count(gate, cutoff, correct_only=False)\n",
    "    expected = get_vars_by_count(gate, cutoff, correct_only=True)\n",
    "    \n",
    "    ind = np.arange(len(everything))  # the x locations for the groups\n",
    "    width = 0.35       # the width of the bars\n",
    "        \n",
    "    fig, ax = plt.subplots()\n",
    "    \n",
    "    rects1 = ax.bar(ind, everything.values(), width, color=colours[0])\n",
    "    rects2 = ax.bar(ind + width, expected.values(), width, color=colours[1])\n",
    "\n",
    "    # add some text for labels, title and axes ticks\n",
    "    ax.set_title(plot_title, x=0.5, y=0.9)\n",
    "    ax.set_ylabel('# of variants')\n",
    "    ax.set_xlabel('Sequencing observation count')\n",
    "    ax.set_xticks(ind + width / 2)\n",
    "    ax.set_xticklabels(everything.keys())\n",
    "\n",
    "    ax.legend((rects1[0], rects2[0]), ('All', 'Expected'))\n",
    "\n",
    "    plt.tight_layout()\n",
    "    if filename:\n",
    "        plt.savefig(filename)\n",
    "    plt.show()\n",
    "    \n",
    "    \n",
    "def poisson_plot_for_choosing_cutoff_zoomed(gate, cutoff, plot_title, sel_start = 0, colours = ['b', 'c'], filename=\"\"):\n",
    "    \n",
    "    everything = get_vars_by_count(gate, cutoff, correct_only=False)\n",
    "    expected = get_vars_by_count(gate, cutoff, correct_only=True)\n",
    "    \n",
    "    ind = np.arange(len(everything))  # the x locations for the groups\n",
    "    width = 0.35       # the width of the bars\n",
    "        \n",
    "    fig, ax = plt.subplots()\n",
    "    \n",
    "    rects1 = ax.bar(ind[sel_start:-1], list(everything.values())[sel_start:-1], width, color=colours[0])\n",
    "    rects2 = ax.bar(ind[sel_start:-1] + width, list(expected.values())[sel_start:-1], width, color=colours[1])\n",
    "\n",
    "    # add some text for labels, title and axes ticks\n",
    "    ax.set_title(plot_title, x=0.5, y=0.9)\n",
    "    ax.set_ylabel('# of variants')\n",
    "    ax.set_xlabel('Sequencing observation count')\n",
    "    ax.set_xticks(ind + width / 2)\n",
    "    ax.set_xticklabels(everything.keys())\n",
    "\n",
    "    ax.legend((rects1[0], rects2[0]), ('All', 'Expected'))\n",
    "\n",
    "    plt.tight_layout()\n",
    "    if filename:\n",
    "        plt.savefig(filename)\n",
    "    plt.show()"
   ]
  },
  {
   "cell_type": "code",
   "execution_count": null,
   "metadata": {},
   "outputs": [],
   "source": [
    "poisson_plot_for_choosing_cutoff('high', 20, 'High gate', colours=['navy', 'royalblue'], filename='Seq_cutoffs_high.png')"
   ]
  },
  {
   "cell_type": "code",
   "execution_count": null,
   "metadata": {},
   "outputs": [],
   "source": [
    "poisson_plot_for_choosing_cutoff_zoomed('high', 30, 'High gate', sel_start = 6, colours=['navy', 'royalblue'], filename='Seq_cutoffs_high_zoom.png')"
   ]
  },
  {
   "cell_type": "code",
   "execution_count": null,
   "metadata": {},
   "outputs": [],
   "source": [
    "poisson_plot_for_choosing_cutoff('med', 20, 'Medium gate', colours=['teal', 'turquoise'], filename= 'Seq_cutoffs_medium.png')"
   ]
  },
  {
   "cell_type": "code",
   "execution_count": null,
   "metadata": {},
   "outputs": [],
   "source": [
    "poisson_plot_for_choosing_cutoff('low-t', 20, 'Low gate', colours=['indigo', 'mediumorchid'], filename='Seq_cutoffs_low.png')"
   ]
  },
  {
   "cell_type": "code",
   "execution_count": null,
   "metadata": {},
   "outputs": [],
   "source": [
    "cutoff = 100\n",
    "vars_by_count = OrderedDict((i, 0) for i in range(1, cutoff +1))\n",
    "for c in mek['high'].values():\n",
    "    if c >= cutoff:\n",
    "        vars_by_count[cutoff] +=1\n",
    "    else:\n",
    "        vars_by_count[c] +=1\n",
    "\n",
    "plt.bar(list(vars_by_count.keys())[8:-1], list(vars_by_count.values())[8:-1])\n",
    "plt.xticks(np.arange(0, cutoff+1, 10))\n",
    "plt.xlabel('High: sequencing count')\n",
    "plt.ylabel('Number of variants observed')\n",
    "plt.tight_layout()\n",
    "plt.savefig('Seq_cutoffs_high_2.png')\n",
    "plt.show()"
   ]
  },
  {
   "cell_type": "markdown",
   "metadata": {},
   "source": [
    "### How many times does the WT appear in each bin?"
   ]
  },
  {
   "cell_type": "code",
   "execution_count": null,
   "metadata": {},
   "outputs": [],
   "source": [
    "df_all.loc['6P/9I/11L/13P']"
   ]
  },
  {
   "cell_type": "code",
   "execution_count": null,
   "metadata": {},
   "outputs": [],
   "source": [
    "df_all.loc['6P/9A/11A/13P']"
   ]
  },
  {
   "cell_type": "code",
   "execution_count": null,
   "metadata": {},
   "outputs": [],
   "source": [
    "df_all.loc['6P/9I/11L/13P']/df_all.loc['6P/9I/11L/13P'].sum()"
   ]
  },
  {
   "cell_type": "markdown",
   "metadata": {},
   "source": [
    "Cutoff criteria for variants to be considered acrive are built based on WT:\n",
    "- 51 or more reads in high bin\n",
    "- more reads in high than in low bin\n",
    "- more reads in high than in medium bin\n",
    "- 42% or more reads total in high bin"
   ]
  },
  {
   "cell_type": "code",
   "execution_count": null,
   "metadata": {},
   "outputs": [],
   "source": [
    "df_51 = df_all.loc[(df_all['high'] >= 51)]"
   ]
  },
  {
   "cell_type": "code",
   "execution_count": null,
   "metadata": {},
   "outputs": [],
   "source": [
    "df_51.describe()"
   ]
  },
  {
   "cell_type": "code",
   "execution_count": null,
   "metadata": {},
   "outputs": [],
   "source": [
    "df_pos = df_all.loc[(df_all['high'] >= 51) & (df_all['high'] > df_all['low-t']) & (df_all['high'] > df_all['med']) &\n",
    "                   (df_all['high'] > 0.42*(df_all['high'] + df_all['med'] + df_all['low-t']))]\n",
    "# this filtering removed 35 variants based on H>L, H>M condition and 4 based on %H. Leaves one variants with a stop codon."
   ]
  },
  {
   "cell_type": "code",
   "execution_count": null,
   "metadata": {},
   "outputs": [],
   "source": [
    "df_pos[df_pos.index.str.contains('*', regex=False)]"
   ]
  },
  {
   "cell_type": "code",
   "execution_count": null,
   "metadata": {},
   "outputs": [],
   "source": [
    "df_pos = df_pos.drop(['6L/7aI/9A/9a*'])"
   ]
  },
  {
   "cell_type": "code",
   "execution_count": null,
   "metadata": {},
   "outputs": [],
   "source": [
    "df_pos.describe()"
   ]
  },
  {
   "cell_type": "markdown",
   "metadata": {},
   "source": [
    "We now have a total of 29,563 variants in the active dataset."
   ]
  },
  {
   "cell_type": "code",
   "execution_count": null,
   "metadata": {},
   "outputs": [],
   "source": [
    "df_all.loc['6P/9I/11W/13P']"
   ]
  },
  {
   "cell_type": "markdown",
   "metadata": {},
   "source": [
    "### Setting up full dataset for MAVE NN"
   ]
  },
  {
   "cell_type": "markdown",
   "metadata": {},
   "source": [
    "- remove mutations outside SpLImlib design\n",
    "- test minimum number of total reads"
   ]
  },
  {
   "cell_type": "code",
   "execution_count": null,
   "metadata": {},
   "outputs": [],
   "source": [
    "df_splimlib1 = df_all.drop(df_all[df_all.index.str.contains('*', regex=False)].index)"
   ]
  },
  {
   "cell_type": "code",
   "execution_count": null,
   "metadata": {},
   "outputs": [],
   "source": [
    "df_splimlib1.count()"
   ]
  },
  {
   "cell_type": "code",
   "execution_count": null,
   "metadata": {},
   "outputs": [],
   "source": [
    "to_be_dropped = []\n",
    "for x in df_splimlib1.index:\n",
    "    if not is_variant_in_expected_set(convert_variant_to_dict(x), splimlib):\n",
    "        to_be_dropped.append(x)\n",
    "        \n",
    "df_splimlib2 = df_splimlib1.drop(to_be_dropped)"
   ]
  },
  {
   "cell_type": "code",
   "execution_count": null,
   "metadata": {},
   "outputs": [],
   "source": [
    "df_splimlib_mave = df_splimlib2.loc[df_splimlib2['high']+df_splimlib2['med']+df_splimlib2['low-t'] >= 10]"
   ]
  },
  {
   "cell_type": "code",
   "execution_count": null,
   "metadata": {},
   "outputs": [],
   "source": [
    "def format_point_mutant(short):\n",
    "    position_order = ['6', '7a', '8a', '9', '11', '13']\n",
    "    \n",
    "    m_by_pos = convert_variant_to_dict(short)\n",
    "    aa_sequence_shorthand = [m_by_pos[p] for p in position_order]\n",
    "    return ''.join(aa_sequence_shorthand)\n",
    "\n",
    "def add_nice_labels(df):\n",
    "    df['short'] = df.index \n",
    "    df['sequence'] = df['short'].apply(format_point_mutant)\n",
    "    return df"
   ]
  },
  {
   "cell_type": "code",
   "execution_count": null,
   "metadata": {},
   "outputs": [],
   "source": [
    "df_splimlib_mave.reset_index(inplace=True)\n",
    "df_splimlib_mave.columns = ['mutations', 'ct_2', 'ct_1', 'ct_0']\n",
    "df_splimlib_mave['sequences'] = df_splimlib_mave['mutations'].apply(format_point_mutant)\n",
    "df_splimlib_mave.head()"
   ]
  },
  {
   "cell_type": "code",
   "execution_count": null,
   "metadata": {},
   "outputs": [],
   "source": [
    "df_splimlib_mave.head()"
   ]
  },
  {
   "cell_type": "code",
   "execution_count": null,
   "metadata": {},
   "outputs": [],
   "source": [
    "with open('splimlib_mave.pickle', 'wb') as f:\n",
    "    pickle.dump(df_splimlib_mave, f)"
   ]
  }
 ],
 "metadata": {
  "kernelspec": {
   "display_name": "Python 3",
   "language": "python",
   "name": "python3"
  },
  "language_info": {
   "codemirror_mode": {
    "name": "ipython",
    "version": 3
   },
   "file_extension": ".py",
   "mimetype": "text/x-python",
   "name": "python",
   "nbconvert_exporter": "python",
   "pygments_lexer": "ipython3",
   "version": "3.7.3"
  }
 },
 "nbformat": 4,
 "nbformat_minor": 2
}
